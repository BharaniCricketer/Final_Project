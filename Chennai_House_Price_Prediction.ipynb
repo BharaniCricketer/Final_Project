{
 "cells": [
  {
   "cell_type": "markdown",
   "id": "a4e35045",
   "metadata": {},
   "source": [
    "## Chennai House Price Prediction Case Study\n",
    "\n",
    "Real estate transactions are quite opaque sometimes and it may be difficult for a newbie to know the fair price of any given home. Thus, multiple real estate websites have the functionality to predict the prices of houses given different features regarding it. Such forecasting models will help buyers to identify a fair price for the home and also give insights to sellers as to how to build homes that fetch them more money. Chennai house sale price data is shared here and the participants are expected to build a sale price prediction model that will aid the customers to find a fair price for their homes and also help the sellers understand what factors are fetching more money for the houses?"
   ]
  },
  {
   "cell_type": "markdown",
   "id": "b17a4666",
   "metadata": {},
   "source": [
    "###  Importing and Merging Data"
   ]
  },
  {
   "cell_type": "code",
   "execution_count": 1,
   "id": "bb789327",
   "metadata": {},
   "outputs": [],
   "source": [
    "import pandas as pd\n",
    "import numpy as np\n",
    "import matplotlib.pyplot as plt\n",
    "import seaborn as sns\n",
    "import warnings\n",
    "warnings.filterwarnings('ignore')"
   ]
  },
  {
   "cell_type": "code",
   "execution_count": 2,
   "id": "bee6b263",
   "metadata": {},
   "outputs": [
    {
     "name": "stdout",
     "output_type": "stream",
     "text": [
      "(7109, 22)\n"
     ]
    },
    {
     "data": {
      "text/html": [
       "<div>\n",
       "<style scoped>\n",
       "    .dataframe tbody tr th:only-of-type {\n",
       "        vertical-align: middle;\n",
       "    }\n",
       "\n",
       "    .dataframe tbody tr th {\n",
       "        vertical-align: top;\n",
       "    }\n",
       "\n",
       "    .dataframe thead th {\n",
       "        text-align: right;\n",
       "    }\n",
       "</style>\n",
       "<table border=\"1\" class=\"dataframe\">\n",
       "  <thead>\n",
       "    <tr style=\"text-align: right;\">\n",
       "      <th></th>\n",
       "      <th>PRT_ID</th>\n",
       "      <th>AREA</th>\n",
       "      <th>INT_SQFT</th>\n",
       "      <th>DATE_SALE</th>\n",
       "      <th>DIST_MAINROAD</th>\n",
       "      <th>N_BEDROOM</th>\n",
       "      <th>N_BATHROOM</th>\n",
       "      <th>N_ROOM</th>\n",
       "      <th>SALE_COND</th>\n",
       "      <th>PARK_FACIL</th>\n",
       "      <th>...</th>\n",
       "      <th>UTILITY_AVAIL</th>\n",
       "      <th>STREET</th>\n",
       "      <th>MZZONE</th>\n",
       "      <th>QS_ROOMS</th>\n",
       "      <th>QS_BATHROOM</th>\n",
       "      <th>QS_BEDROOM</th>\n",
       "      <th>QS_OVERALL</th>\n",
       "      <th>REG_FEE</th>\n",
       "      <th>COMMIS</th>\n",
       "      <th>SALES_PRICE</th>\n",
       "    </tr>\n",
       "  </thead>\n",
       "  <tbody>\n",
       "    <tr>\n",
       "      <th>0</th>\n",
       "      <td>P03210</td>\n",
       "      <td>Karapakkam</td>\n",
       "      <td>1004</td>\n",
       "      <td>04-05-2011</td>\n",
       "      <td>131</td>\n",
       "      <td>1.0</td>\n",
       "      <td>1.0</td>\n",
       "      <td>3</td>\n",
       "      <td>AbNormal</td>\n",
       "      <td>Yes</td>\n",
       "      <td>...</td>\n",
       "      <td>AllPub</td>\n",
       "      <td>Paved</td>\n",
       "      <td>A</td>\n",
       "      <td>4.0</td>\n",
       "      <td>3.9</td>\n",
       "      <td>4.9</td>\n",
       "      <td>4.330</td>\n",
       "      <td>380000</td>\n",
       "      <td>144400</td>\n",
       "      <td>7600000</td>\n",
       "    </tr>\n",
       "    <tr>\n",
       "      <th>1</th>\n",
       "      <td>P09411</td>\n",
       "      <td>Anna Nagar</td>\n",
       "      <td>1986</td>\n",
       "      <td>19-12-2006</td>\n",
       "      <td>26</td>\n",
       "      <td>2.0</td>\n",
       "      <td>1.0</td>\n",
       "      <td>5</td>\n",
       "      <td>AbNormal</td>\n",
       "      <td>No</td>\n",
       "      <td>...</td>\n",
       "      <td>AllPub</td>\n",
       "      <td>Gravel</td>\n",
       "      <td>RH</td>\n",
       "      <td>4.9</td>\n",
       "      <td>4.2</td>\n",
       "      <td>2.5</td>\n",
       "      <td>3.765</td>\n",
       "      <td>760122</td>\n",
       "      <td>304049</td>\n",
       "      <td>21717770</td>\n",
       "    </tr>\n",
       "    <tr>\n",
       "      <th>2</th>\n",
       "      <td>P01812</td>\n",
       "      <td>Adyar</td>\n",
       "      <td>909</td>\n",
       "      <td>04-02-2012</td>\n",
       "      <td>70</td>\n",
       "      <td>1.0</td>\n",
       "      <td>1.0</td>\n",
       "      <td>3</td>\n",
       "      <td>AbNormal</td>\n",
       "      <td>Yes</td>\n",
       "      <td>...</td>\n",
       "      <td>ELO</td>\n",
       "      <td>Gravel</td>\n",
       "      <td>RL</td>\n",
       "      <td>4.1</td>\n",
       "      <td>3.8</td>\n",
       "      <td>2.2</td>\n",
       "      <td>3.090</td>\n",
       "      <td>421094</td>\n",
       "      <td>92114</td>\n",
       "      <td>13159200</td>\n",
       "    </tr>\n",
       "    <tr>\n",
       "      <th>3</th>\n",
       "      <td>P05346</td>\n",
       "      <td>Velachery</td>\n",
       "      <td>1855</td>\n",
       "      <td>13-03-2010</td>\n",
       "      <td>14</td>\n",
       "      <td>3.0</td>\n",
       "      <td>2.0</td>\n",
       "      <td>5</td>\n",
       "      <td>Family</td>\n",
       "      <td>No</td>\n",
       "      <td>...</td>\n",
       "      <td>NoSewr</td>\n",
       "      <td>Paved</td>\n",
       "      <td>I</td>\n",
       "      <td>4.7</td>\n",
       "      <td>3.9</td>\n",
       "      <td>3.6</td>\n",
       "      <td>4.010</td>\n",
       "      <td>356321</td>\n",
       "      <td>77042</td>\n",
       "      <td>9630290</td>\n",
       "    </tr>\n",
       "    <tr>\n",
       "      <th>4</th>\n",
       "      <td>P06210</td>\n",
       "      <td>Karapakkam</td>\n",
       "      <td>1226</td>\n",
       "      <td>05-10-2009</td>\n",
       "      <td>84</td>\n",
       "      <td>1.0</td>\n",
       "      <td>1.0</td>\n",
       "      <td>3</td>\n",
       "      <td>AbNormal</td>\n",
       "      <td>Yes</td>\n",
       "      <td>...</td>\n",
       "      <td>AllPub</td>\n",
       "      <td>Gravel</td>\n",
       "      <td>C</td>\n",
       "      <td>3.0</td>\n",
       "      <td>2.5</td>\n",
       "      <td>4.1</td>\n",
       "      <td>3.290</td>\n",
       "      <td>237000</td>\n",
       "      <td>74063</td>\n",
       "      <td>7406250</td>\n",
       "    </tr>\n",
       "  </tbody>\n",
       "</table>\n",
       "<p>5 rows × 22 columns</p>\n",
       "</div>"
      ],
      "text/plain": [
       "   PRT_ID        AREA  INT_SQFT   DATE_SALE  DIST_MAINROAD  N_BEDROOM  \\\n",
       "0  P03210  Karapakkam      1004  04-05-2011            131        1.0   \n",
       "1  P09411  Anna Nagar      1986  19-12-2006             26        2.0   \n",
       "2  P01812       Adyar       909  04-02-2012             70        1.0   \n",
       "3  P05346   Velachery      1855  13-03-2010             14        3.0   \n",
       "4  P06210  Karapakkam      1226  05-10-2009             84        1.0   \n",
       "\n",
       "   N_BATHROOM  N_ROOM SALE_COND PARK_FACIL  ... UTILITY_AVAIL  STREET MZZONE  \\\n",
       "0         1.0       3  AbNormal        Yes  ...        AllPub   Paved      A   \n",
       "1         1.0       5  AbNormal         No  ...        AllPub  Gravel     RH   \n",
       "2         1.0       3  AbNormal        Yes  ...           ELO  Gravel     RL   \n",
       "3         2.0       5    Family         No  ...       NoSewr    Paved      I   \n",
       "4         1.0       3  AbNormal        Yes  ...        AllPub  Gravel      C   \n",
       "\n",
       "  QS_ROOMS QS_BATHROOM  QS_BEDROOM  QS_OVERALL  REG_FEE  COMMIS  SALES_PRICE  \n",
       "0      4.0         3.9         4.9       4.330   380000  144400      7600000  \n",
       "1      4.9         4.2         2.5       3.765   760122  304049     21717770  \n",
       "2      4.1         3.8         2.2       3.090   421094   92114     13159200  \n",
       "3      4.7         3.9         3.6       4.010   356321   77042      9630290  \n",
       "4      3.0         2.5         4.1       3.290   237000   74063      7406250  \n",
       "\n",
       "[5 rows x 22 columns]"
      ]
     },
     "execution_count": 2,
     "metadata": {},
     "output_type": "execute_result"
    }
   ],
   "source": [
    "df = pd.read_csv(\"train-chennai-sale.csv\") #read the dataset\n",
    "print(df.shape)\n",
    "df.head()"
   ]
  },
  {
   "attachments": {
    "image-3.png": {
     "image/png": "[encoded data removed]"
    }
   },
   "cell_type": "markdown",
   "id": "6f6d90fd",
   "metadata": {},
   "source": [
    "### Understanding the DataSet\n",
    "\n",
    "Data is about the Chennai house sale price can be found in train-chennai-sale.csv\n",
    "\n",
    "The columns are:     \n",
    "![image-3.png](attachment:image-3.png)\n"
   ]
  },
  {
   "attachments": {
    "image-2.png": {
     "image/png": "[encoded data removed]"
    },
    "image-3.png": {
     "image/png": "[encoded data removed]"
    },
    "image-4.png": {
     "image/png": "[encoded data removed]"
    }
   },
   "cell_type": "markdown",
   "id": "eab87b40",
   "metadata": {},
   "source": [
    "### Categorical Column Description\n",
    "\n",
    "   #### SALE_COND Column: ![image-2.png](attachment:image-2.png)\n",
    "\n",
    "#### BUILDTYPE Column: ![image-3.png](attachment:image-3.png)\n",
    "#### MZZONE Column: ![image-4.png](attachment:image-4.png)\n",
    "   **PARK_FACIL Column** :         Parking Facility available or not(Yes/No)\n",
    "   \n",
    "   **UTILITY_AVAIL Column** :         What are all the Utilities that are available in the building\n",
    "   \n",
    "   **STREET Column** :         Type of Road(Paved/Gravel/No Access) were the building is located"
   ]
  },
  {
   "cell_type": "code",
   "execution_count": 3,
   "id": "394132c0",
   "metadata": {},
   "outputs": [
    {
     "name": "stdout",
     "output_type": "stream",
     "text": [
      "<class 'pandas.core.frame.DataFrame'>\n",
      "RangeIndex: 7109 entries, 0 to 7108\n",
      "Data columns (total 22 columns):\n",
      " #   Column         Non-Null Count  Dtype  \n",
      "---  ------         --------------  -----  \n",
      " 0   PRT_ID         7109 non-null   object \n",
      " 1   AREA           7109 non-null   object \n",
      " 2   INT_SQFT       7109 non-null   int64  \n",
      " 3   DATE_SALE      7109 non-null   object \n",
      " 4   DIST_MAINROAD  7109 non-null   int64  \n",
      " 5   N_BEDROOM      7108 non-null   float64\n",
      " 6   N_BATHROOM     7104 non-null   float64\n",
      " 7   N_ROOM         7109 non-null   int64  \n",
      " 8   SALE_COND      7109 non-null   object \n",
      " 9   PARK_FACIL     7109 non-null   object \n",
      " 10  DATE_BUILD     7109 non-null   object \n",
      " 11  BUILDTYPE      7109 non-null   object \n",
      " 12  UTILITY_AVAIL  7109 non-null   object \n",
      " 13  STREET         7109 non-null   object \n",
      " 14  MZZONE         7109 non-null   object \n",
      " 15  QS_ROOMS       7109 non-null   float64\n",
      " 16  QS_BATHROOM    7109 non-null   float64\n",
      " 17  QS_BEDROOM     7109 non-null   float64\n",
      " 18  QS_OVERALL     7061 non-null   float64\n",
      " 19  REG_FEE        7109 non-null   int64  \n",
      " 20  COMMIS         7109 non-null   int64  \n",
      " 21  SALES_PRICE    7109 non-null   int64  \n",
      "dtypes: float64(6), int64(6), object(10)\n",
      "memory usage: 1.2+ MB\n"
     ]
    }
   ],
   "source": [
    " df.info()"
   ]
  },
  {
   "cell_type": "markdown",
   "id": "1ed42c2f",
   "metadata": {},
   "source": [
    "### Data Cleaning"
   ]
  },
  {
   "cell_type": "code",
   "execution_count": 4,
   "id": "00faa672",
   "metadata": {},
   "outputs": [
    {
     "data": {
      "text/plain": [
       "PRT_ID            0\n",
       "AREA              0\n",
       "INT_SQFT          0\n",
       "DATE_SALE         0\n",
       "DIST_MAINROAD     0\n",
       "N_BEDROOM         1\n",
       "N_BATHROOM        5\n",
       "N_ROOM            0\n",
       "SALE_COND         0\n",
       "PARK_FACIL        0\n",
       "DATE_BUILD        0\n",
       "BUILDTYPE         0\n",
       "UTILITY_AVAIL     0\n",
       "STREET            0\n",
       "MZZONE            0\n",
       "QS_ROOMS          0\n",
       "QS_BATHROOM       0\n",
       "QS_BEDROOM        0\n",
       "QS_OVERALL       48\n",
       "REG_FEE           0\n",
       "COMMIS            0\n",
       "SALES_PRICE       0\n",
       "dtype: int64"
      ]
     },
     "execution_count": 4,
     "metadata": {},
     "output_type": "execute_result"
    }
   ],
   "source": [
    "#Checking for null values in the dataset\n",
    "df.isnull().sum()"
   ]
  },
  {
   "cell_type": "markdown",
   "id": "d54aaec0",
   "metadata": {},
   "source": [
    "### Fill Null Values"
   ]
  },
  {
   "cell_type": "code",
   "execution_count": 5,
   "id": "e0815c2c",
   "metadata": {},
   "outputs": [],
   "source": [
    "a_bed = df['N_BEDROOM'].mode().values\n",
    "a_bath = df['N_BATHROOM'].mode().values\n",
    "\n",
    "df['N_BEDROOM'] = df['N_BEDROOM'].fillna(np.float64(a_bed).item())\n",
    "df['N_BATHROOM'] = df['N_BATHROOM'].fillna(np.float64(a_bath).item())\n"
   ]
  },
  {
   "cell_type": "markdown",
   "id": "2305e640",
   "metadata": {},
   "source": [
    "We have found QS_OVERALL Column have relationship with QS_ROOMS, QS_BATHROOM, QS_BEDROOM        "
   ]
  },
  {
   "cell_type": "code",
   "execution_count": 6,
   "id": "d57f8828",
   "metadata": {},
   "outputs": [
    {
     "name": "stdout",
     "output_type": "stream",
     "text": [
      "Difference between Avg of QS_BATHROOM,QS_BEDROOM,QS_ROOMS and QS_OVERALL : 0.08234315252796948\n",
      "Difference between Mean of QS_OVERALL and QS_OVERALL : 0.4305263874776786\n"
     ]
    }
   ],
   "source": [
    "print('Difference between Avg of QS_BATHROOM,QS_BEDROOM,QS_ROOMS and QS_OVERALL :',(df['QS_OVERALL'] - ((df['QS_BATHROOM']+df['QS_BEDROOM']+df['QS_ROOMS'])/3)).abs().mean())\n",
    "print('Difference between Mean of QS_OVERALL and QS_OVERALL :',(df['QS_OVERALL'] - df['QS_OVERALL'].mean()).abs().mean())"
   ]
  },
  {
   "cell_type": "markdown",
   "id": "5b771f2b",
   "metadata": {},
   "source": [
    "Average of QS_BATHROOM,QS_BEDROOM,QS_ROOMS is taken to replace the null values in QS_OVERALL"
   ]
  },
  {
   "cell_type": "code",
   "execution_count": 7,
   "id": "cc9167a9",
   "metadata": {},
   "outputs": [],
   "source": [
    "df['QS_OVERALL'] = df['QS_OVERALL'].fillna((df['QS_BATHROOM']+df['QS_BEDROOM']+df['QS_ROOMS'])/3)"
   ]
  },
  {
   "cell_type": "code",
   "execution_count": 8,
   "id": "6c9f2ba9",
   "metadata": {},
   "outputs": [
    {
     "data": {
      "text/plain": [
       "PRT_ID           0\n",
       "AREA             0\n",
       "INT_SQFT         0\n",
       "DATE_SALE        0\n",
       "DIST_MAINROAD    0\n",
       "N_BEDROOM        0\n",
       "N_BATHROOM       0\n",
       "N_ROOM           0\n",
       "SALE_COND        0\n",
       "PARK_FACIL       0\n",
       "DATE_BUILD       0\n",
       "BUILDTYPE        0\n",
       "UTILITY_AVAIL    0\n",
       "STREET           0\n",
       "MZZONE           0\n",
       "QS_ROOMS         0\n",
       "QS_BATHROOM      0\n",
       "QS_BEDROOM       0\n",
       "QS_OVERALL       0\n",
       "REG_FEE          0\n",
       "COMMIS           0\n",
       "SALES_PRICE      0\n",
       "dtype: int64"
      ]
     },
     "execution_count": 8,
     "metadata": {},
     "output_type": "execute_result"
    }
   ],
   "source": [
    "#Checking for null values in the dataset after Imputation\n",
    "df.isnull().sum()"
   ]
  },
  {
   "cell_type": "code",
   "execution_count": 9,
   "id": "acf44856",
   "metadata": {},
   "outputs": [],
   "source": [
    "#Converting the columns datatypes\n",
    "df['N_BEDROOM'] = df['N_BEDROOM'].astype('int64')\n",
    "df['N_BATHROOM'] = df['N_BATHROOM'].astype('int64')\n",
    "df['DATE_BUILD'] = pd.to_datetime(df['DATE_BUILD'])\n",
    "df['DATE_SALE'] = pd.to_datetime(df['DATE_SALE'])"
   ]
  },
  {
   "cell_type": "code",
   "execution_count": 10,
   "id": "92a0ca31",
   "metadata": {},
   "outputs": [
    {
     "data": {
      "text/html": [
       "<div>\n",
       "<style scoped>\n",
       "    .dataframe tbody tr th:only-of-type {\n",
       "        vertical-align: middle;\n",
       "    }\n",
       "\n",
       "    .dataframe tbody tr th {\n",
       "        vertical-align: top;\n",
       "    }\n",
       "\n",
       "    .dataframe thead th {\n",
       "        text-align: right;\n",
       "    }\n",
       "</style>\n",
       "<table border=\"1\" class=\"dataframe\">\n",
       "  <thead>\n",
       "    <tr style=\"text-align: right;\">\n",
       "      <th></th>\n",
       "      <th>PRT_ID</th>\n",
       "      <th>AREA</th>\n",
       "      <th>INT_SQFT</th>\n",
       "      <th>DATE_SALE</th>\n",
       "      <th>DIST_MAINROAD</th>\n",
       "      <th>N_BEDROOM</th>\n",
       "      <th>N_BATHROOM</th>\n",
       "      <th>N_ROOM</th>\n",
       "      <th>SALE_COND</th>\n",
       "      <th>PARK_FACIL</th>\n",
       "      <th>...</th>\n",
       "      <th>UTILITY_AVAIL</th>\n",
       "      <th>STREET</th>\n",
       "      <th>MZZONE</th>\n",
       "      <th>QS_ROOMS</th>\n",
       "      <th>QS_BATHROOM</th>\n",
       "      <th>QS_BEDROOM</th>\n",
       "      <th>QS_OVERALL</th>\n",
       "      <th>REG_FEE</th>\n",
       "      <th>COMMIS</th>\n",
       "      <th>SALES_PRICE</th>\n",
       "    </tr>\n",
       "  </thead>\n",
       "  <tbody>\n",
       "    <tr>\n",
       "      <th>0</th>\n",
       "      <td>P03210</td>\n",
       "      <td>Karapakkam</td>\n",
       "      <td>1004</td>\n",
       "      <td>2011-04-05</td>\n",
       "      <td>131</td>\n",
       "      <td>1</td>\n",
       "      <td>1</td>\n",
       "      <td>3</td>\n",
       "      <td>AbNormal</td>\n",
       "      <td>Yes</td>\n",
       "      <td>...</td>\n",
       "      <td>AllPub</td>\n",
       "      <td>Paved</td>\n",
       "      <td>A</td>\n",
       "      <td>4.0</td>\n",
       "      <td>3.9</td>\n",
       "      <td>4.9</td>\n",
       "      <td>4.330</td>\n",
       "      <td>380000</td>\n",
       "      <td>144400</td>\n",
       "      <td>7600000</td>\n",
       "    </tr>\n",
       "    <tr>\n",
       "      <th>1</th>\n",
       "      <td>P09411</td>\n",
       "      <td>Anna Nagar</td>\n",
       "      <td>1986</td>\n",
       "      <td>2006-12-19</td>\n",
       "      <td>26</td>\n",
       "      <td>2</td>\n",
       "      <td>1</td>\n",
       "      <td>5</td>\n",
       "      <td>AbNormal</td>\n",
       "      <td>No</td>\n",
       "      <td>...</td>\n",
       "      <td>AllPub</td>\n",
       "      <td>Gravel</td>\n",
       "      <td>RH</td>\n",
       "      <td>4.9</td>\n",
       "      <td>4.2</td>\n",
       "      <td>2.5</td>\n",
       "      <td>3.765</td>\n",
       "      <td>760122</td>\n",
       "      <td>304049</td>\n",
       "      <td>21717770</td>\n",
       "    </tr>\n",
       "    <tr>\n",
       "      <th>2</th>\n",
       "      <td>P01812</td>\n",
       "      <td>Adyar</td>\n",
       "      <td>909</td>\n",
       "      <td>2012-04-02</td>\n",
       "      <td>70</td>\n",
       "      <td>1</td>\n",
       "      <td>1</td>\n",
       "      <td>3</td>\n",
       "      <td>AbNormal</td>\n",
       "      <td>Yes</td>\n",
       "      <td>...</td>\n",
       "      <td>ELO</td>\n",
       "      <td>Gravel</td>\n",
       "      <td>RL</td>\n",
       "      <td>4.1</td>\n",
       "      <td>3.8</td>\n",
       "      <td>2.2</td>\n",
       "      <td>3.090</td>\n",
       "      <td>421094</td>\n",
       "      <td>92114</td>\n",
       "      <td>13159200</td>\n",
       "    </tr>\n",
       "    <tr>\n",
       "      <th>3</th>\n",
       "      <td>P05346</td>\n",
       "      <td>Velachery</td>\n",
       "      <td>1855</td>\n",
       "      <td>2010-03-13</td>\n",
       "      <td>14</td>\n",
       "      <td>3</td>\n",
       "      <td>2</td>\n",
       "      <td>5</td>\n",
       "      <td>Family</td>\n",
       "      <td>No</td>\n",
       "      <td>...</td>\n",
       "      <td>NoSewr</td>\n",
       "      <td>Paved</td>\n",
       "      <td>I</td>\n",
       "      <td>4.7</td>\n",
       "      <td>3.9</td>\n",
       "      <td>3.6</td>\n",
       "      <td>4.010</td>\n",
       "      <td>356321</td>\n",
       "      <td>77042</td>\n",
       "      <td>9630290</td>\n",
       "    </tr>\n",
       "    <tr>\n",
       "      <th>4</th>\n",
       "      <td>P06210</td>\n",
       "      <td>Karapakkam</td>\n",
       "      <td>1226</td>\n",
       "      <td>2009-05-10</td>\n",
       "      <td>84</td>\n",
       "      <td>1</td>\n",
       "      <td>1</td>\n",
       "      <td>3</td>\n",
       "      <td>AbNormal</td>\n",
       "      <td>Yes</td>\n",
       "      <td>...</td>\n",
       "      <td>AllPub</td>\n",
       "      <td>Gravel</td>\n",
       "      <td>C</td>\n",
       "      <td>3.0</td>\n",
       "      <td>2.5</td>\n",
       "      <td>4.1</td>\n",
       "      <td>3.290</td>\n",
       "      <td>237000</td>\n",
       "      <td>74063</td>\n",
       "      <td>7406250</td>\n",
       "    </tr>\n",
       "  </tbody>\n",
       "</table>\n",
       "<p>5 rows × 22 columns</p>\n",
       "</div>"
      ],
      "text/plain": [
       "   PRT_ID        AREA  INT_SQFT  DATE_SALE  DIST_MAINROAD  N_BEDROOM  \\\n",
       "0  P03210  Karapakkam      1004 2011-04-05            131          1   \n",
       "1  P09411  Anna Nagar      1986 2006-12-19             26          2   \n",
       "2  P01812       Adyar       909 2012-04-02             70          1   \n",
       "3  P05346   Velachery      1855 2010-03-13             14          3   \n",
       "4  P06210  Karapakkam      1226 2009-05-10             84          1   \n",
       "\n",
       "   N_BATHROOM  N_ROOM SALE_COND PARK_FACIL  ... UTILITY_AVAIL  STREET MZZONE  \\\n",
       "0           1       3  AbNormal        Yes  ...        AllPub   Paved      A   \n",
       "1           1       5  AbNormal         No  ...        AllPub  Gravel     RH   \n",
       "2           1       3  AbNormal        Yes  ...           ELO  Gravel     RL   \n",
       "3           2       5    Family         No  ...       NoSewr    Paved      I   \n",
       "4           1       3  AbNormal        Yes  ...        AllPub  Gravel      C   \n",
       "\n",
       "  QS_ROOMS QS_BATHROOM  QS_BEDROOM  QS_OVERALL  REG_FEE  COMMIS  SALES_PRICE  \n",
       "0      4.0         3.9         4.9       4.330   380000  144400      7600000  \n",
       "1      4.9         4.2         2.5       3.765   760122  304049     21717770  \n",
       "2      4.1         3.8         2.2       3.090   421094   92114     13159200  \n",
       "3      4.7         3.9         3.6       4.010   356321   77042      9630290  \n",
       "4      3.0         2.5         4.1       3.290   237000   74063      7406250  \n",
       "\n",
       "[5 rows x 22 columns]"
      ]
     },
     "execution_count": 10,
     "metadata": {},
     "output_type": "execute_result"
    }
   ],
   "source": [
    "df.head()"
   ]
  },
  {
   "cell_type": "markdown",
   "id": "385bb641",
   "metadata": {},
   "source": [
    "PRT_ID Column is the unique ID for each sold building. Since these values are uniques they will not affect the prediction of sale price, so that we are removing this column. In general Registration fee and commission are not part of the House sale or done after the sale is complete, so that we are column REG_FEE, COMMIS Columns"
   ]
  },
  {
   "cell_type": "code",
   "execution_count": 11,
   "id": "47690a13",
   "metadata": {},
   "outputs": [],
   "source": [
    "#Dropping features which are not useful \n",
    "df = df.drop(['PRT_ID','REG_FEE','COMMIS'], axis=1)"
   ]
  },
  {
   "cell_type": "code",
   "execution_count": 12,
   "id": "7b2a88f3",
   "metadata": {},
   "outputs": [
    {
     "data": {
      "text/html": [
       "<div>\n",
       "<style scoped>\n",
       "    .dataframe tbody tr th:only-of-type {\n",
       "        vertical-align: middle;\n",
       "    }\n",
       "\n",
       "    .dataframe tbody tr th {\n",
       "        vertical-align: top;\n",
       "    }\n",
       "\n",
       "    .dataframe thead th {\n",
       "        text-align: right;\n",
       "    }\n",
       "</style>\n",
       "<table border=\"1\" class=\"dataframe\">\n",
       "  <thead>\n",
       "    <tr style=\"text-align: right;\">\n",
       "      <th></th>\n",
       "      <th>AREA</th>\n",
       "      <th>INT_SQFT</th>\n",
       "      <th>DATE_SALE</th>\n",
       "      <th>DIST_MAINROAD</th>\n",
       "      <th>N_BEDROOM</th>\n",
       "      <th>N_BATHROOM</th>\n",
       "      <th>N_ROOM</th>\n",
       "      <th>SALE_COND</th>\n",
       "      <th>PARK_FACIL</th>\n",
       "      <th>DATE_BUILD</th>\n",
       "      <th>BUILDTYPE</th>\n",
       "      <th>UTILITY_AVAIL</th>\n",
       "      <th>STREET</th>\n",
       "      <th>MZZONE</th>\n",
       "      <th>QS_ROOMS</th>\n",
       "      <th>QS_BATHROOM</th>\n",
       "      <th>QS_BEDROOM</th>\n",
       "      <th>QS_OVERALL</th>\n",
       "      <th>SALES_PRICE</th>\n",
       "    </tr>\n",
       "  </thead>\n",
       "  <tbody>\n",
       "    <tr>\n",
       "      <th>0</th>\n",
       "      <td>Karapakkam</td>\n",
       "      <td>1004</td>\n",
       "      <td>2011-04-05</td>\n",
       "      <td>131</td>\n",
       "      <td>1</td>\n",
       "      <td>1</td>\n",
       "      <td>3</td>\n",
       "      <td>AbNormal</td>\n",
       "      <td>Yes</td>\n",
       "      <td>1967-05-15</td>\n",
       "      <td>Commercial</td>\n",
       "      <td>AllPub</td>\n",
       "      <td>Paved</td>\n",
       "      <td>A</td>\n",
       "      <td>4.0</td>\n",
       "      <td>3.9</td>\n",
       "      <td>4.9</td>\n",
       "      <td>4.330</td>\n",
       "      <td>7600000</td>\n",
       "    </tr>\n",
       "    <tr>\n",
       "      <th>1</th>\n",
       "      <td>Anna Nagar</td>\n",
       "      <td>1986</td>\n",
       "      <td>2006-12-19</td>\n",
       "      <td>26</td>\n",
       "      <td>2</td>\n",
       "      <td>1</td>\n",
       "      <td>5</td>\n",
       "      <td>AbNormal</td>\n",
       "      <td>No</td>\n",
       "      <td>1995-12-22</td>\n",
       "      <td>Commercial</td>\n",
       "      <td>AllPub</td>\n",
       "      <td>Gravel</td>\n",
       "      <td>RH</td>\n",
       "      <td>4.9</td>\n",
       "      <td>4.2</td>\n",
       "      <td>2.5</td>\n",
       "      <td>3.765</td>\n",
       "      <td>21717770</td>\n",
       "    </tr>\n",
       "    <tr>\n",
       "      <th>2</th>\n",
       "      <td>Adyar</td>\n",
       "      <td>909</td>\n",
       "      <td>2012-04-02</td>\n",
       "      <td>70</td>\n",
       "      <td>1</td>\n",
       "      <td>1</td>\n",
       "      <td>3</td>\n",
       "      <td>AbNormal</td>\n",
       "      <td>Yes</td>\n",
       "      <td>1992-09-02</td>\n",
       "      <td>Commercial</td>\n",
       "      <td>ELO</td>\n",
       "      <td>Gravel</td>\n",
       "      <td>RL</td>\n",
       "      <td>4.1</td>\n",
       "      <td>3.8</td>\n",
       "      <td>2.2</td>\n",
       "      <td>3.090</td>\n",
       "      <td>13159200</td>\n",
       "    </tr>\n",
       "    <tr>\n",
       "      <th>3</th>\n",
       "      <td>Velachery</td>\n",
       "      <td>1855</td>\n",
       "      <td>2010-03-13</td>\n",
       "      <td>14</td>\n",
       "      <td>3</td>\n",
       "      <td>2</td>\n",
       "      <td>5</td>\n",
       "      <td>Family</td>\n",
       "      <td>No</td>\n",
       "      <td>1988-03-18</td>\n",
       "      <td>Others</td>\n",
       "      <td>NoSewr</td>\n",
       "      <td>Paved</td>\n",
       "      <td>I</td>\n",
       "      <td>4.7</td>\n",
       "      <td>3.9</td>\n",
       "      <td>3.6</td>\n",
       "      <td>4.010</td>\n",
       "      <td>9630290</td>\n",
       "    </tr>\n",
       "    <tr>\n",
       "      <th>4</th>\n",
       "      <td>Karapakkam</td>\n",
       "      <td>1226</td>\n",
       "      <td>2009-05-10</td>\n",
       "      <td>84</td>\n",
       "      <td>1</td>\n",
       "      <td>1</td>\n",
       "      <td>3</td>\n",
       "      <td>AbNormal</td>\n",
       "      <td>Yes</td>\n",
       "      <td>1979-10-13</td>\n",
       "      <td>Others</td>\n",
       "      <td>AllPub</td>\n",
       "      <td>Gravel</td>\n",
       "      <td>C</td>\n",
       "      <td>3.0</td>\n",
       "      <td>2.5</td>\n",
       "      <td>4.1</td>\n",
       "      <td>3.290</td>\n",
       "      <td>7406250</td>\n",
       "    </tr>\n",
       "  </tbody>\n",
       "</table>\n",
       "</div>"
      ],
      "text/plain": [
       "         AREA  INT_SQFT  DATE_SALE  DIST_MAINROAD  N_BEDROOM  N_BATHROOM  \\\n",
       "0  Karapakkam      1004 2011-04-05            131          1           1   \n",
       "1  Anna Nagar      1986 2006-12-19             26          2           1   \n",
       "2       Adyar       909 2012-04-02             70          1           1   \n",
       "3   Velachery      1855 2010-03-13             14          3           2   \n",
       "4  Karapakkam      1226 2009-05-10             84          1           1   \n",
       "\n",
       "   N_ROOM SALE_COND PARK_FACIL DATE_BUILD   BUILDTYPE UTILITY_AVAIL  STREET  \\\n",
       "0       3  AbNormal        Yes 1967-05-15  Commercial        AllPub   Paved   \n",
       "1       5  AbNormal         No 1995-12-22  Commercial        AllPub  Gravel   \n",
       "2       3  AbNormal        Yes 1992-09-02  Commercial           ELO  Gravel   \n",
       "3       5    Family         No 1988-03-18      Others       NoSewr    Paved   \n",
       "4       3  AbNormal        Yes 1979-10-13      Others        AllPub  Gravel   \n",
       "\n",
       "  MZZONE  QS_ROOMS  QS_BATHROOM  QS_BEDROOM  QS_OVERALL  SALES_PRICE  \n",
       "0      A       4.0          3.9         4.9       4.330      7600000  \n",
       "1     RH       4.9          4.2         2.5       3.765     21717770  \n",
       "2     RL       4.1          3.8         2.2       3.090     13159200  \n",
       "3      I       4.7          3.9         3.6       4.010      9630290  \n",
       "4      C       3.0          2.5         4.1       3.290      7406250  "
      ]
     },
     "execution_count": 12,
     "metadata": {},
     "output_type": "execute_result"
    }
   ],
   "source": [
    "df.head()"
   ]
  },
  {
   "cell_type": "code",
   "execution_count": 13,
   "id": "58999a94",
   "metadata": {},
   "outputs": [
    {
     "name": "stdout",
     "output_type": "stream",
     "text": [
      "{'AREA': 17, 'SALE_COND': 9, 'PARK_FACIL': 3, 'BUILDTYPE': 5, 'UTILITY_AVAIL': 5, 'STREET': 5, 'MZZONE': 6}\n"
     ]
    }
   ],
   "source": [
    "#checking distribution of categorical data\n",
    "obj_dict = {column : len(df[column].unique()) for column in df.columns if df.dtypes[column] == 'object'}\n",
    "print(obj_dict)"
   ]
  },
  {
   "cell_type": "code",
   "execution_count": 14,
   "id": "cd93265e",
   "metadata": {},
   "outputs": [
    {
     "name": "stdout",
     "output_type": "stream",
     "text": [
      "{'AREA': array(['Karapakkam', 'Anna Nagar', 'Adyar', 'Velachery', 'Chrompet',\n",
      "       'KK Nagar', 'TNagar', 'T Nagar', 'Chrompt', 'Chrmpet', 'Karapakam',\n",
      "       'Ana Nagar', 'Chormpet', 'Adyr', 'Velchery', 'Ann Nagar',\n",
      "       'KKNagar'], dtype=object)}\n",
      "{'SALE_COND': array(['AbNormal', 'Family', 'Partial', 'AdjLand', 'Normal Sale',\n",
      "       'Ab Normal', 'Partiall', 'Adj Land', 'PartiaLl'], dtype=object)}\n",
      "{'PARK_FACIL': array(['Yes', 'No', 'Noo'], dtype=object)}\n",
      "{'BUILDTYPE': array(['Commercial', 'Others', 'Other', 'House', 'Comercial'],\n",
      "      dtype=object)}\n",
      "{'UTILITY_AVAIL': array(['AllPub', 'ELO', 'NoSewr ', 'NoSeWa', 'All Pub'], dtype=object)}\n",
      "{'STREET': array(['Paved', 'Gravel', 'No Access', 'Pavd', 'NoAccess'], dtype=object)}\n",
      "{'MZZONE': array(['A', 'RH', 'RL', 'I', 'C', 'RM'], dtype=object)}\n"
     ]
    }
   ],
   "source": [
    "for key in obj_dict:\n",
    "    print({key : df[key].unique()})"
   ]
  },
  {
   "cell_type": "markdown",
   "id": "d876c965",
   "metadata": {},
   "source": [
    "### Replacing Mispelled values"
   ]
  },
  {
   "cell_type": "code",
   "execution_count": 15,
   "id": "bbb8f86a",
   "metadata": {},
   "outputs": [],
   "source": [
    "#Replacing mispelled values in  each categorical columns\n",
    "df['AREA'].replace(['Chrompt','Chrmpet','Chormpet'], 'Chrompet', inplace=True)\n",
    "df['AREA'].replace(['Karapakam'], 'Karapakkam', inplace=True)\n",
    "df['AREA'].replace(['Ana Nagar','Ann Nagar'], 'Anna Nagar', inplace=True)\n",
    "df['AREA'].replace(['Adyr'], 'Adyar', inplace=True)\n",
    "df['AREA'].replace(['TNagar'], 'T Nagar', inplace=True)\n",
    "df['AREA'].replace(['KKNagar'], 'KK Nagar', inplace=True)\n",
    "df['AREA'].replace(['Velchery'], 'Velachery', inplace=True)\n",
    "\n",
    "df['SALE_COND'].replace(['Ab Normal'], 'AbNormal', inplace=True)             \n",
    "df['SALE_COND'].replace(['Partiall'], 'Partial', inplace=True)             \n",
    "df['SALE_COND'].replace(['PartiaLl'], 'Partial', inplace=True)\n",
    "df['SALE_COND'].replace(['Adj Land'], 'AdjLand', inplace=True)\n",
    "\n",
    "df['PARK_FACIL'].replace(['Noo'], 'No', inplace=True)\n",
    "\n",
    "df['BUILDTYPE'].replace(['Comercial'], 'Commercial', inplace=True)\n",
    "df['BUILDTYPE'].replace(['Other'], 'Others', inplace=True)\n",
    "\n",
    "df['UTILITY_AVAIL'].replace(['All Pub'], 'AllPub', inplace=True)\n",
    "df['UTILITY_AVAIL'].replace(['NoSeWa'], 'NoSewr', inplace=True)\n",
    "df['UTILITY_AVAIL'].replace(['NoSewr '], 'NoSewr', inplace=True)\n",
    "\n",
    "\n",
    "df['STREET'].replace(['Pavd'], 'Paved', inplace=True)\n",
    "df['STREET'].replace(['No Access'], 'NoAccess', inplace=True)"
   ]
  },
  {
   "cell_type": "code",
   "execution_count": 16,
   "id": "1824428e",
   "metadata": {},
   "outputs": [],
   "source": [
    "#Dropping duplicates in datasets if any\n",
    "df = df.drop_duplicates()"
   ]
  },
  {
   "cell_type": "markdown",
   "id": "551de34c",
   "metadata": {},
   "source": [
    "With the help of DATE_SALE and DATE_BUILD Columns we can derive a age of the building"
   ]
  },
  {
   "cell_type": "code",
   "execution_count": 17,
   "id": "19cbe5d3",
   "metadata": {},
   "outputs": [],
   "source": [
    "df['HOUSE_AGE'] = ((df['DATE_SALE'] - df['DATE_BUILD']).dt.days)/365.25"
   ]
  },
  {
   "cell_type": "code",
   "execution_count": 18,
   "id": "910f4b56",
   "metadata": {},
   "outputs": [],
   "source": [
    "#Dropping DATE_SALE and DATE_BUILD feature\n",
    "df = df.drop(['DATE_SALE','DATE_BUILD'], axis=1)"
   ]
  },
  {
   "cell_type": "code",
   "execution_count": 19,
   "id": "18197ce9",
   "metadata": {},
   "outputs": [
    {
     "name": "stdout",
     "output_type": "stream",
     "text": [
      "(7109, 18)\n"
     ]
    },
    {
     "data": {
      "text/html": [
       "<div>\n",
       "<style scoped>\n",
       "    .dataframe tbody tr th:only-of-type {\n",
       "        vertical-align: middle;\n",
       "    }\n",
       "\n",
       "    .dataframe tbody tr th {\n",
       "        vertical-align: top;\n",
       "    }\n",
       "\n",
       "    .dataframe thead th {\n",
       "        text-align: right;\n",
       "    }\n",
       "</style>\n",
       "<table border=\"1\" class=\"dataframe\">\n",
       "  <thead>\n",
       "    <tr style=\"text-align: right;\">\n",
       "      <th></th>\n",
       "      <th>AREA</th>\n",
       "      <th>INT_SQFT</th>\n",
       "      <th>DIST_MAINROAD</th>\n",
       "      <th>N_BEDROOM</th>\n",
       "      <th>N_BATHROOM</th>\n",
       "      <th>N_ROOM</th>\n",
       "      <th>SALE_COND</th>\n",
       "      <th>PARK_FACIL</th>\n",
       "      <th>BUILDTYPE</th>\n",
       "      <th>UTILITY_AVAIL</th>\n",
       "      <th>STREET</th>\n",
       "      <th>MZZONE</th>\n",
       "      <th>QS_ROOMS</th>\n",
       "      <th>QS_BATHROOM</th>\n",
       "      <th>QS_BEDROOM</th>\n",
       "      <th>QS_OVERALL</th>\n",
       "      <th>SALES_PRICE</th>\n",
       "      <th>HOUSE_AGE</th>\n",
       "    </tr>\n",
       "  </thead>\n",
       "  <tbody>\n",
       "    <tr>\n",
       "      <th>0</th>\n",
       "      <td>Karapakkam</td>\n",
       "      <td>1004</td>\n",
       "      <td>131</td>\n",
       "      <td>1</td>\n",
       "      <td>1</td>\n",
       "      <td>3</td>\n",
       "      <td>AbNormal</td>\n",
       "      <td>Yes</td>\n",
       "      <td>Commercial</td>\n",
       "      <td>AllPub</td>\n",
       "      <td>Paved</td>\n",
       "      <td>A</td>\n",
       "      <td>4.0</td>\n",
       "      <td>3.9</td>\n",
       "      <td>4.9</td>\n",
       "      <td>4.330</td>\n",
       "      <td>7600000</td>\n",
       "      <td>43.890486</td>\n",
       "    </tr>\n",
       "    <tr>\n",
       "      <th>1</th>\n",
       "      <td>Anna Nagar</td>\n",
       "      <td>1986</td>\n",
       "      <td>26</td>\n",
       "      <td>2</td>\n",
       "      <td>1</td>\n",
       "      <td>5</td>\n",
       "      <td>AbNormal</td>\n",
       "      <td>No</td>\n",
       "      <td>Commercial</td>\n",
       "      <td>AllPub</td>\n",
       "      <td>Gravel</td>\n",
       "      <td>RH</td>\n",
       "      <td>4.9</td>\n",
       "      <td>4.2</td>\n",
       "      <td>2.5</td>\n",
       "      <td>3.765</td>\n",
       "      <td>21717770</td>\n",
       "      <td>10.992471</td>\n",
       "    </tr>\n",
       "    <tr>\n",
       "      <th>2</th>\n",
       "      <td>Adyar</td>\n",
       "      <td>909</td>\n",
       "      <td>70</td>\n",
       "      <td>1</td>\n",
       "      <td>1</td>\n",
       "      <td>3</td>\n",
       "      <td>AbNormal</td>\n",
       "      <td>Yes</td>\n",
       "      <td>Commercial</td>\n",
       "      <td>ELO</td>\n",
       "      <td>Gravel</td>\n",
       "      <td>RL</td>\n",
       "      <td>4.1</td>\n",
       "      <td>3.8</td>\n",
       "      <td>2.2</td>\n",
       "      <td>3.090</td>\n",
       "      <td>13159200</td>\n",
       "      <td>19.581109</td>\n",
       "    </tr>\n",
       "    <tr>\n",
       "      <th>3</th>\n",
       "      <td>Velachery</td>\n",
       "      <td>1855</td>\n",
       "      <td>14</td>\n",
       "      <td>3</td>\n",
       "      <td>2</td>\n",
       "      <td>5</td>\n",
       "      <td>Family</td>\n",
       "      <td>No</td>\n",
       "      <td>Others</td>\n",
       "      <td>NoSewr</td>\n",
       "      <td>Paved</td>\n",
       "      <td>I</td>\n",
       "      <td>4.7</td>\n",
       "      <td>3.9</td>\n",
       "      <td>3.6</td>\n",
       "      <td>4.010</td>\n",
       "      <td>9630290</td>\n",
       "      <td>21.984942</td>\n",
       "    </tr>\n",
       "    <tr>\n",
       "      <th>4</th>\n",
       "      <td>Karapakkam</td>\n",
       "      <td>1226</td>\n",
       "      <td>84</td>\n",
       "      <td>1</td>\n",
       "      <td>1</td>\n",
       "      <td>3</td>\n",
       "      <td>AbNormal</td>\n",
       "      <td>Yes</td>\n",
       "      <td>Others</td>\n",
       "      <td>AllPub</td>\n",
       "      <td>Gravel</td>\n",
       "      <td>C</td>\n",
       "      <td>3.0</td>\n",
       "      <td>2.5</td>\n",
       "      <td>4.1</td>\n",
       "      <td>3.290</td>\n",
       "      <td>7406250</td>\n",
       "      <td>29.574264</td>\n",
       "    </tr>\n",
       "  </tbody>\n",
       "</table>\n",
       "</div>"
      ],
      "text/plain": [
       "         AREA  INT_SQFT  DIST_MAINROAD  N_BEDROOM  N_BATHROOM  N_ROOM  \\\n",
       "0  Karapakkam      1004            131          1           1       3   \n",
       "1  Anna Nagar      1986             26          2           1       5   \n",
       "2       Adyar       909             70          1           1       3   \n",
       "3   Velachery      1855             14          3           2       5   \n",
       "4  Karapakkam      1226             84          1           1       3   \n",
       "\n",
       "  SALE_COND PARK_FACIL   BUILDTYPE UTILITY_AVAIL  STREET MZZONE  QS_ROOMS  \\\n",
       "0  AbNormal        Yes  Commercial        AllPub   Paved      A       4.0   \n",
       "1  AbNormal         No  Commercial        AllPub  Gravel     RH       4.9   \n",
       "2  AbNormal        Yes  Commercial           ELO  Gravel     RL       4.1   \n",
       "3    Family         No      Others        NoSewr   Paved      I       4.7   \n",
       "4  AbNormal        Yes      Others        AllPub  Gravel      C       3.0   \n",
       "\n",
       "   QS_BATHROOM  QS_BEDROOM  QS_OVERALL  SALES_PRICE  HOUSE_AGE  \n",
       "0          3.9         4.9       4.330      7600000  43.890486  \n",
       "1          4.2         2.5       3.765     21717770  10.992471  \n",
       "2          3.8         2.2       3.090     13159200  19.581109  \n",
       "3          3.9         3.6       4.010      9630290  21.984942  \n",
       "4          2.5         4.1       3.290      7406250  29.574264  "
      ]
     },
     "execution_count": 19,
     "metadata": {},
     "output_type": "execute_result"
    }
   ],
   "source": [
    "print(df.shape)\n",
    "df.head()"
   ]
  },
  {
   "cell_type": "markdown",
   "id": "6cfbe2c8",
   "metadata": {},
   "source": [
    "### Exploratory Data Analysis(EDA)"
   ]
  },
  {
   "cell_type": "code",
   "execution_count": 21,
   "id": "6ad3c77d",
   "metadata": {},
   "outputs": [
    {
     "data": {
      "text/html": [
       "<div>\n",
       "<style scoped>\n",
       "    .dataframe tbody tr th:only-of-type {\n",
       "        vertical-align: middle;\n",
       "    }\n",
       "\n",
       "    .dataframe tbody tr th {\n",
       "        vertical-align: top;\n",
       "    }\n",
       "\n",
       "    .dataframe thead th {\n",
       "        text-align: right;\n",
       "    }\n",
       "</style>\n",
       "<table border=\"1\" class=\"dataframe\">\n",
       "  <thead>\n",
       "    <tr style=\"text-align: right;\">\n",
       "      <th></th>\n",
       "      <th>INT_SQFT</th>\n",
       "      <th>DIST_MAINROAD</th>\n",
       "      <th>N_BEDROOM</th>\n",
       "      <th>N_BATHROOM</th>\n",
       "      <th>N_ROOM</th>\n",
       "      <th>QS_ROOMS</th>\n",
       "      <th>QS_BATHROOM</th>\n",
       "      <th>QS_BEDROOM</th>\n",
       "      <th>QS_OVERALL</th>\n",
       "      <th>SALES_PRICE</th>\n",
       "      <th>HOUSE_AGE</th>\n",
       "    </tr>\n",
       "  </thead>\n",
       "  <tbody>\n",
       "    <tr>\n",
       "      <th>count</th>\n",
       "      <td>7109.000000</td>\n",
       "      <td>7109.000000</td>\n",
       "      <td>7109.000000</td>\n",
       "      <td>7109.000000</td>\n",
       "      <td>7109.000000</td>\n",
       "      <td>7109.000000</td>\n",
       "      <td>7109.000000</td>\n",
       "      <td>7109.000000</td>\n",
       "      <td>7109.000000</td>\n",
       "      <td>7.109000e+03</td>\n",
       "      <td>7109.000000</td>\n",
       "    </tr>\n",
       "    <tr>\n",
       "      <th>mean</th>\n",
       "      <td>1382.073006</td>\n",
       "      <td>99.603179</td>\n",
       "      <td>1.636939</td>\n",
       "      <td>1.213110</td>\n",
       "      <td>3.688704</td>\n",
       "      <td>3.517471</td>\n",
       "      <td>3.507244</td>\n",
       "      <td>3.485300</td>\n",
       "      <td>3.503968</td>\n",
       "      <td>1.089491e+07</td>\n",
       "      <td>24.277958</td>\n",
       "    </tr>\n",
       "    <tr>\n",
       "      <th>std</th>\n",
       "      <td>457.410902</td>\n",
       "      <td>57.403110</td>\n",
       "      <td>0.802881</td>\n",
       "      <td>0.409534</td>\n",
       "      <td>1.019099</td>\n",
       "      <td>0.891972</td>\n",
       "      <td>0.897834</td>\n",
       "      <td>0.887266</td>\n",
       "      <td>0.527048</td>\n",
       "      <td>3.768603e+06</td>\n",
       "      <td>12.338893</td>\n",
       "    </tr>\n",
       "    <tr>\n",
       "      <th>min</th>\n",
       "      <td>500.000000</td>\n",
       "      <td>0.000000</td>\n",
       "      <td>1.000000</td>\n",
       "      <td>1.000000</td>\n",
       "      <td>2.000000</td>\n",
       "      <td>2.000000</td>\n",
       "      <td>2.000000</td>\n",
       "      <td>2.000000</td>\n",
       "      <td>2.000000</td>\n",
       "      <td>2.156875e+06</td>\n",
       "      <td>3.915127</td>\n",
       "    </tr>\n",
       "    <tr>\n",
       "      <th>25%</th>\n",
       "      <td>993.000000</td>\n",
       "      <td>50.000000</td>\n",
       "      <td>1.000000</td>\n",
       "      <td>1.000000</td>\n",
       "      <td>3.000000</td>\n",
       "      <td>2.700000</td>\n",
       "      <td>2.700000</td>\n",
       "      <td>2.700000</td>\n",
       "      <td>3.130000</td>\n",
       "      <td>8.272100e+06</td>\n",
       "      <td>13.990418</td>\n",
       "    </tr>\n",
       "    <tr>\n",
       "      <th>50%</th>\n",
       "      <td>1373.000000</td>\n",
       "      <td>99.000000</td>\n",
       "      <td>1.000000</td>\n",
       "      <td>1.000000</td>\n",
       "      <td>4.000000</td>\n",
       "      <td>3.500000</td>\n",
       "      <td>3.500000</td>\n",
       "      <td>3.500000</td>\n",
       "      <td>3.500000</td>\n",
       "      <td>1.033505e+07</td>\n",
       "      <td>23.498973</td>\n",
       "    </tr>\n",
       "    <tr>\n",
       "      <th>75%</th>\n",
       "      <td>1744.000000</td>\n",
       "      <td>148.000000</td>\n",
       "      <td>2.000000</td>\n",
       "      <td>1.000000</td>\n",
       "      <td>4.000000</td>\n",
       "      <td>4.300000</td>\n",
       "      <td>4.300000</td>\n",
       "      <td>4.300000</td>\n",
       "      <td>3.890000</td>\n",
       "      <td>1.299390e+07</td>\n",
       "      <td>33.976728</td>\n",
       "    </tr>\n",
       "    <tr>\n",
       "      <th>max</th>\n",
       "      <td>2500.000000</td>\n",
       "      <td>200.000000</td>\n",
       "      <td>4.000000</td>\n",
       "      <td>2.000000</td>\n",
       "      <td>6.000000</td>\n",
       "      <td>5.000000</td>\n",
       "      <td>5.000000</td>\n",
       "      <td>5.000000</td>\n",
       "      <td>4.970000</td>\n",
       "      <td>2.366734e+07</td>\n",
       "      <td>55.764545</td>\n",
       "    </tr>\n",
       "  </tbody>\n",
       "</table>\n",
       "</div>"
      ],
      "text/plain": [
       "          INT_SQFT  DIST_MAINROAD    N_BEDROOM   N_BATHROOM       N_ROOM  \\\n",
       "count  7109.000000    7109.000000  7109.000000  7109.000000  7109.000000   \n",
       "mean   1382.073006      99.603179     1.636939     1.213110     3.688704   \n",
       "std     457.410902      57.403110     0.802881     0.409534     1.019099   \n",
       "min     500.000000       0.000000     1.000000     1.000000     2.000000   \n",
       "25%     993.000000      50.000000     1.000000     1.000000     3.000000   \n",
       "50%    1373.000000      99.000000     1.000000     1.000000     4.000000   \n",
       "75%    1744.000000     148.000000     2.000000     1.000000     4.000000   \n",
       "max    2500.000000     200.000000     4.000000     2.000000     6.000000   \n",
       "\n",
       "          QS_ROOMS  QS_BATHROOM   QS_BEDROOM   QS_OVERALL   SALES_PRICE  \\\n",
       "count  7109.000000  7109.000000  7109.000000  7109.000000  7.109000e+03   \n",
       "mean      3.517471     3.507244     3.485300     3.503968  1.089491e+07   \n",
       "std       0.891972     0.897834     0.887266     0.527048  3.768603e+06   \n",
       "min       2.000000     2.000000     2.000000     2.000000  2.156875e+06   \n",
       "25%       2.700000     2.700000     2.700000     3.130000  8.272100e+06   \n",
       "50%       3.500000     3.500000     3.500000     3.500000  1.033505e+07   \n",
       "75%       4.300000     4.300000     4.300000     3.890000  1.299390e+07   \n",
       "max       5.000000     5.000000     5.000000     4.970000  2.366734e+07   \n",
       "\n",
       "         HOUSE_AGE  \n",
       "count  7109.000000  \n",
       "mean     24.277958  \n",
       "std      12.338893  \n",
       "min       3.915127  \n",
       "25%      13.990418  \n",
       "50%      23.498973  \n",
       "75%      33.976728  \n",
       "max      55.764545  "
      ]
     },
     "execution_count": 21,
     "metadata": {},
     "output_type": "execute_result"
    }
   ],
   "source": [
    "df.describe()"
   ]
  },
  {
   "cell_type": "markdown",
   "id": "5a13b14b",
   "metadata": {},
   "source": [
    "There are no outliers in the data"
   ]
  },
  {
   "cell_type": "code",
   "execution_count": 22,
   "id": "f1220242",
   "metadata": {},
   "outputs": [
    {
     "data": {
      "text/plain": [
       "Index(['AREA', 'INT_SQFT', 'DIST_MAINROAD', 'N_BEDROOM', 'N_BATHROOM',\n",
       "       'N_ROOM', 'SALE_COND', 'PARK_FACIL', 'BUILDTYPE', 'UTILITY_AVAIL',\n",
       "       'STREET', 'MZZONE', 'QS_ROOMS', 'QS_BATHROOM', 'QS_BEDROOM',\n",
       "       'QS_OVERALL', 'SALES_PRICE', 'HOUSE_AGE'],\n",
       "      dtype='object')"
      ]
     },
     "execution_count": 22,
     "metadata": {},
     "output_type": "execute_result"
    }
   ],
   "source": [
    "df.columns"
   ]
  },
  {
   "cell_type": "markdown",
   "id": "29308564",
   "metadata": {},
   "source": [
    "#### Distribution of features "
   ]
  },
  {
   "cell_type": "code",
   "execution_count": 23,
   "id": "0a28a8f9",
   "metadata": {},
   "outputs": [
    {
     "data": {
      "text/plain": [
       "Text(0.5, 1.0, 'AREA VS SALES_PRICE')"
      ]
     },
     "execution_count": 23,
     "metadata": {},
     "output_type": "execute_result"
    },
    {
     "data": {
      "image/png": "[encoded data removed]",
      "text/plain": [
       "<Figure size 1224x720 with 2 Axes>"
      ]
     },
     "metadata": {
      "needs_background": "light"
     },
     "output_type": "display_data"
    }
   ],
   "source": [
    "plt.figure(figsize =(17,10))\n",
    "\n",
    "plt.subplot(2,2,1)\n",
    "#sns.barplot(x=area.index,y=area.values,data=df)\n",
    "df.AREA.value_counts().plot(kind = 'bar')\n",
    "plt.xlabel('AREA')\n",
    "plt.ylabel('VALUE')\n",
    "plt.title('Distribution')\n",
    "\n",
    "plt.subplot(2,2,2)\n",
    "sns.barplot(x='AREA',y='SALES_PRICE',data=df, order=df.groupby('AREA')['SALES_PRICE'].mean().reset_index().sort_values('SALES_PRICE')['AREA'])\n",
    "plt.title('AREA VS SALES_PRICE')\n"
   ]
  },
  {
   "cell_type": "markdown",
   "id": "ebe9a01b",
   "metadata": {},
   "source": [
    "Distribution of the AREA Column infers that Chrompet has the most number of Houses/Building sold.\n",
    "\n",
    "The AREA vs SALES_PRICE plot shows a linear relationship between them. so that label encoding should be done for the feature."
   ]
  },
  {
   "cell_type": "code",
   "execution_count": 24,
   "id": "1ae9c0f8",
   "metadata": {},
   "outputs": [
    {
     "data": {
      "text/plain": [
       "Text(0.5, 1.0, 'No of Bedrooms VS Sales Price')"
      ]
     },
     "execution_count": 24,
     "metadata": {},
     "output_type": "execute_result"
    },
    {
     "data": {
      "image/png": "[encoded data removed]",
      "text/plain": [
       "<Figure size 1080x720 with 2 Axes>"
      ]
     },
     "metadata": {
      "needs_background": "light"
     },
     "output_type": "display_data"
    }
   ],
   "source": [
    "plt.figure(figsize =(15,10))\n",
    "\n",
    "plt.subplot(2,2,1)\n",
    "sns.countplot(x='N_BEDROOM', data = df, order = df['N_BEDROOM'].value_counts().index)\n",
    "plt.xlabel('N_BEDROOM')\n",
    "plt.ylabel('VALUE')\n",
    "plt.title('Distribution')\n",
    "\n",
    "plt.subplot(2,2,2)\n",
    "sns.barplot(x='N_BEDROOM',y='SALES_PRICE',data=df, order=df.groupby('N_BEDROOM')['SALES_PRICE'].mean().reset_index().sort_values('SALES_PRICE')['N_BEDROOM'])\n",
    "plt.title('No of Bedrooms VS Sales Price')"
   ]
  },
  {
   "cell_type": "markdown",
   "id": "1d695bcd",
   "metadata": {},
   "source": [
    "Distribution of the N_BEDROOM Column infers most of Sold House/Building are having single(1) bedroom.\n",
    "\n",
    "The N_BEDROOM vs SALES_PRICE plot shows a linear relationship between them. No encoding need since they are having numerical values."
   ]
  },
  {
   "cell_type": "code",
   "execution_count": 25,
   "id": "3757823e",
   "metadata": {},
   "outputs": [
    {
     "data": {
      "text/plain": [
       "Text(0.5, 1.0, 'No of Bathrooms VS Sales Price')"
      ]
     },
     "execution_count": 25,
     "metadata": {},
     "output_type": "execute_result"
    },
    {
     "data": {
      "image/png": "[encoded data removed]",
      "text/plain": [
       "<Figure size 1080x720 with 2 Axes>"
      ]
     },
     "metadata": {
      "needs_background": "light"
     },
     "output_type": "display_data"
    }
   ],
   "source": [
    "plt.figure(figsize =(15,10))\n",
    "\n",
    "plt.subplot(2,2,1)\n",
    "sns.countplot(x='N_BATHROOM', data = df, order = df['N_BATHROOM'].value_counts().index)\n",
    "plt.xlabel('N_BATHROOM')\n",
    "plt.ylabel('VALUE')\n",
    "plt.title('Distribution')\n",
    "\n",
    "plt.subplot(2,2,2)\n",
    "sns.barplot(x='N_BATHROOM',y='SALES_PRICE',data=df, order=df.groupby('N_BATHROOM')['SALES_PRICE'].mean().reset_index().sort_values('SALES_PRICE')['N_BATHROOM'])\n",
    "plt.title('No of Bathrooms VS Sales Price')"
   ]
  },
  {
   "cell_type": "markdown",
   "id": "da6a0688",
   "metadata": {},
   "source": [
    "Distribution of the N_BATHROOM Column infers most of Sold House/Building are having single(1) bathroom.\n",
    "\n",
    "The N_BATHROOM vs SALES_PRICE plot shows a linear relationship between them. No encoding need since they are having numerical values."
   ]
  },
  {
   "cell_type": "code",
   "execution_count": 26,
   "id": "a0f86067",
   "metadata": {},
   "outputs": [
    {
     "data": {
      "text/plain": [
       "Text(0.5, 1.0, 'No of Rooms VS Sales Price')"
      ]
     },
     "execution_count": 26,
     "metadata": {},
     "output_type": "execute_result"
    },
    {
     "data": {
      "image/png": "[encoded data removed]",
      "text/plain": [
       "<Figure size 1080x720 with 2 Axes>"
      ]
     },
     "metadata": {
      "needs_background": "light"
     },
     "output_type": "display_data"
    }
   ],
   "source": [
    "plt.figure(figsize =(15,10))\n",
    "\n",
    "plt.subplot(2,2,1)\n",
    "sns.countplot(x='N_ROOM', data = df, order = df['N_ROOM'].value_counts().index)\n",
    "plt.xlabel('N_ROOM')\n",
    "plt.ylabel('VALUE')\n",
    "plt.title('Distribution')\n",
    "\n",
    "plt.subplot(2,2,2)\n",
    "sns.barplot(x='N_ROOM',y='SALES_PRICE',data=df, order=df.groupby('N_ROOM')['SALES_PRICE'].mean().reset_index().sort_values('SALES_PRICE')['N_ROOM'])\n",
    "plt.title('No of Rooms VS Sales Price')"
   ]
  },
  {
   "cell_type": "markdown",
   "id": "b9da59b7",
   "metadata": {},
   "source": [
    "Distribution of the N_ROOM Column infers most of house/Building Sold are having 4 Rooms.\n",
    "\n",
    "The N_ROOM vs SALES_PRICE plot shows a linear relationship between them. No encoding need since they are having numerical values."
   ]
  },
  {
   "cell_type": "code",
   "execution_count": 27,
   "id": "910ce977",
   "metadata": {},
   "outputs": [
    {
     "data": {
      "text/plain": [
       "Text(0.5, 1.0, 'Sale condition of property VS Sales Price')"
      ]
     },
     "execution_count": 27,
     "metadata": {},
     "output_type": "execute_result"
    },
    {
     "data": {
      "image/png": "[encoded data removed]",
      "text/plain": [
       "<Figure size 1080x720 with 2 Axes>"
      ]
     },
     "metadata": {
      "needs_background": "light"
     },
     "output_type": "display_data"
    }
   ],
   "source": [
    "plt.figure(figsize =(15,10))\n",
    "\n",
    "plt.subplot(2,2,1)\n",
    "sns.countplot(x='SALE_COND', data = df, order = df['SALE_COND'].value_counts().index)\n",
    "plt.xlabel('SALE_COND')\n",
    "plt.ylabel('VALUE')\n",
    "plt.title('Distribution')\n",
    "\n",
    "plt.subplot(2,2,2)\n",
    "sns.barplot(x='SALE_COND',y='SALES_PRICE',data=df, order=df.groupby('SALE_COND')['SALES_PRICE'].mean().reset_index().sort_values('SALES_PRICE')['SALE_COND'])\n",
    "plt.title('Sale condition of property VS Sales Price')"
   ]
  },
  {
   "cell_type": "markdown",
   "id": "d42f15eb",
   "metadata": {},
   "source": [
    "Distribution of the SALE_COND Column infers they are having uniform distributions.\n",
    "\n",
    "There is no relationship between SALE_COND and SALES_PRICE column, so that we drop the feature.  "
   ]
  },
  {
   "cell_type": "code",
   "execution_count": 28,
   "id": "6853e7e7",
   "metadata": {},
   "outputs": [
    {
     "data": {
      "text/plain": [
       "Text(0.5, 1.0, 'Parking Facility VS Sales Price')"
      ]
     },
     "execution_count": 28,
     "metadata": {},
     "output_type": "execute_result"
    },
    {
     "data": {
      "image/png": "[encoded data removed]",
      "text/plain": [
       "<Figure size 1080x720 with 2 Axes>"
      ]
     },
     "metadata": {
      "needs_background": "light"
     },
     "output_type": "display_data"
    }
   ],
   "source": [
    "plt.figure(figsize =(15,10))\n",
    "\n",
    "plt.subplot(2,2,1)\n",
    "sns.countplot(x='PARK_FACIL', data = df, order = df['PARK_FACIL'].value_counts().index)\n",
    "plt.xlabel('PARK_FACIL')\n",
    "plt.ylabel('VALUE')\n",
    "plt.title('Distribution')\n",
    "\n",
    "plt.subplot(2,2,2)\n",
    "sns.barplot(x='PARK_FACIL',y='SALES_PRICE',data=df)\n",
    "plt.title('Parking Facility VS Sales Price')"
   ]
  },
  {
   "cell_type": "markdown",
   "id": "2434f2e4",
   "metadata": {},
   "source": [
    "Distribution of the PARK_FACIL Column infers they are having uniform distributions.\n",
    "\n",
    "There's a relationship between PARK_FACIL and SALES_PRICE. Since its a binary categorical feature we folow label encoding."
   ]
  },
  {
   "cell_type": "code",
   "execution_count": 29,
   "id": "db1f9e7f",
   "metadata": {},
   "outputs": [
    {
     "data": {
      "text/plain": [
       "Text(0.5, 1.0, 'Type of Building VS Sales Price')"
      ]
     },
     "execution_count": 29,
     "metadata": {},
     "output_type": "execute_result"
    },
    {
     "data": {
      "image/png": "[encoded data removed]",
      "text/plain": [
       "<Figure size 1080x720 with 2 Axes>"
      ]
     },
     "metadata": {
      "needs_background": "light"
     },
     "output_type": "display_data"
    }
   ],
   "source": [
    "plt.figure(figsize =(15,10))\n",
    "\n",
    "plt.subplot(2,2,1)\n",
    "sns.countplot(x='BUILDTYPE', data = df, order = df['BUILDTYPE'].value_counts().index)\n",
    "plt.xlabel('BUILDTYPE')\n",
    "plt.ylabel('VALUE')\n",
    "plt.title('Distribution')\n",
    "\n",
    "plt.subplot(2,2,2)\n",
    "sns.barplot(x='BUILDTYPE',y='SALES_PRICE',data=df, order=df.groupby('BUILDTYPE')['SALES_PRICE'].mean().reset_index().sort_values('SALES_PRICE')['BUILDTYPE'])\n",
    "plt.title('Type of Building VS Sales Price')"
   ]
  },
  {
   "cell_type": "markdown",
   "id": "1697000d",
   "metadata": {},
   "source": [
    "Distribution of the BUILD_TYPE Column infers most of building sold are House.\n",
    "\n",
    "The BUILD_TYPE vs SALES_PRICE plot didn't shows any linear relationship between them. So one hot encoding can be performed to the feature."
   ]
  },
  {
   "cell_type": "code",
   "execution_count": 30,
   "id": "8084ac6d",
   "metadata": {},
   "outputs": [
    {
     "data": {
      "text/plain": [
       "Text(0.5, 1.0, 'Utility Available VS Sales Price')"
      ]
     },
     "execution_count": 30,
     "metadata": {},
     "output_type": "execute_result"
    },
    {
     "data": {
      "image/png": "[encoded data removed]",
      "text/plain": [
       "<Figure size 1080x720 with 2 Axes>"
      ]
     },
     "metadata": {
      "needs_background": "light"
     },
     "output_type": "display_data"
    }
   ],
   "source": [
    "plt.figure(figsize =(15,10))\n",
    "\n",
    "plt.subplot(2,2,1)\n",
    "sns.countplot(x='UTILITY_AVAIL', data = df, order = df['UTILITY_AVAIL'].value_counts().index)\n",
    "plt.xlabel('UTILITY_AVAIL')\n",
    "plt.ylabel('VALUE')\n",
    "plt.title('Distribution')\n",
    "\n",
    "plt.subplot(2,2,2)\n",
    "sns.barplot(x='UTILITY_AVAIL',y='SALES_PRICE',data=df, order=df.groupby('UTILITY_AVAIL')['SALES_PRICE'].mean().reset_index().sort_values('SALES_PRICE')['UTILITY_AVAIL'])\n",
    "plt.title('Utility Available VS Sales Price')"
   ]
  },
  {
   "cell_type": "markdown",
   "id": "4de33286",
   "metadata": {},
   "source": [
    "Distribution of the UTILITY_AVAIL Column infers most of House/building sold are not having any sewage system.\n",
    "\n",
    "The UTILITY_AVAIL vs SALES_PRICE plot shows a linear relationship between them. So label encoding can be performed to the feature."
   ]
  },
  {
   "cell_type": "code",
   "execution_count": 31,
   "id": "88660bb8",
   "metadata": {},
   "outputs": [
    {
     "data": {
      "text/plain": [
       "Text(0.5, 1.0, 'Street VS Sales Price')"
      ]
     },
     "execution_count": 31,
     "metadata": {},
     "output_type": "execute_result"
    },
    {
     "data": {
      "image/png": "[encoded data removed]",
      "text/plain": [
       "<Figure size 1080x720 with 2 Axes>"
      ]
     },
     "metadata": {
      "needs_background": "light"
     },
     "output_type": "display_data"
    }
   ],
   "source": [
    "plt.figure(figsize =(15,10))\n",
    "\n",
    "plt.subplot(2,2,1)\n",
    "sns.countplot(x='STREET', data = df, order = df['STREET'].value_counts().index)\n",
    "plt.xlabel('STREET')\n",
    "plt.ylabel('VALUE')\n",
    "plt.title('Distribution')\n",
    "\n",
    "plt.subplot(2,2,2)\n",
    "sns.barplot(x='STREET',y='SALES_PRICE',data=df, order=df.groupby('STREET')['SALES_PRICE'].mean().reset_index().sort_values('SALES_PRICE')['STREET'])\n",
    "plt.title('Street VS Sales Price')"
   ]
  },
  {
   "cell_type": "markdown",
   "id": "31a97fce",
   "metadata": {},
   "source": [
    "Distribution of the STREET Column infers most of House/building sold are having paved/Gravel roads.\n",
    "\n",
    "The STREET vs SALES_PRICE plot shows a linear relationship between them. So label encoding can be performed to the feature."
   ]
  },
  {
   "cell_type": "code",
   "execution_count": 32,
   "id": "f0dc7ea5",
   "metadata": {},
   "outputs": [
    {
     "data": {
      "text/plain": [
       "Text(0.5, 1.0, 'MZZONE VS Sales Price')"
      ]
     },
     "execution_count": 32,
     "metadata": {},
     "output_type": "execute_result"
    },
    {
     "data": {
      "image/png": "[encoded data removed]",
      "text/plain": [
       "<Figure size 1080x720 with 2 Axes>"
      ]
     },
     "metadata": {
      "needs_background": "light"
     },
     "output_type": "display_data"
    }
   ],
   "source": [
    "plt.figure(figsize =(15,10))\n",
    "\n",
    "plt.subplot(2,2,1)\n",
    "sns.countplot(x='MZZONE', data = df, order = df['MZZONE'].value_counts().index)\n",
    "plt.xlabel('MZZONE')\n",
    "plt.ylabel('VALUE')\n",
    "plt.title('Distribution')\n",
    "\n",
    "plt.subplot(2,2,2)\n",
    "sns.barplot(x='MZZONE',y='SALES_PRICE',data=df, order=df.groupby('MZZONE')['SALES_PRICE'].mean().reset_index().sort_values('SALES_PRICE')['MZZONE'])\n",
    "plt.title('MZZONE VS Sales Price')"
   ]
  },
  {
   "cell_type": "markdown",
   "id": "b4d110f2",
   "metadata": {},
   "source": [
    "Distribution of the MZZONE Column infers that the RL,RH,RM are having similar distributions whereas C,A,I steeps and having similar Distributions.\n",
    "\n",
    "The MZZONE vs SALES_PRICE plot shows a linear relationship between them. But A,C,I follows a separate linear relationship and RH,RL,RM follows another linear relationship. So label encoding can be performed to the feature."
   ]
  },
  {
   "cell_type": "code",
   "execution_count": 33,
   "id": "cab395ff",
   "metadata": {},
   "outputs": [
    {
     "data": {
      "text/plain": [
       "Text(0.5, 1.0, 'INT_SQFT VS Sales Price')"
      ]
     },
     "execution_count": 33,
     "metadata": {},
     "output_type": "execute_result"
    },
    {
     "data": {
      "image/png": "[encoded data removed]",
      "text/plain": [
       "<Figure size 1080x720 with 2 Axes>"
      ]
     },
     "metadata": {
      "needs_background": "light"
     },
     "output_type": "display_data"
    }
   ],
   "source": [
    "plt.figure(figsize =(15,10))\n",
    "\n",
    "plt.subplot(2,2,1)\n",
    "sns.histplot(x='INT_SQFT', data = df)\n",
    "plt.xlabel('INT_SQFT')\n",
    "plt.ylabel('VALUE')\n",
    "plt.title('Distribution')\n",
    "\n",
    "plt.subplot(2,2,2)\n",
    "df.groupby('INT_SQFT')['SALES_PRICE'].mean().plot(style='o')\n",
    "plt.xlabel('INT_SQFT')\n",
    "plt.ylabel('SALES_PRICE')\n",
    "plt.title('INT_SQFT VS Sales Price')"
   ]
  },
  {
   "cell_type": "markdown",
   "id": "130ff38b",
   "metadata": {},
   "source": [
    "Distribution of the INT_SQFT Column follows bimodal distribution.\n",
    "\n",
    "The INT_SQFT vs SALES_PRICE plot shows a linear relationship between them."
   ]
  },
  {
   "cell_type": "code",
   "execution_count": 34,
   "id": "5f4ea3a1",
   "metadata": {},
   "outputs": [
    {
     "data": {
      "text/html": [
       "<div>\n",
       "<style scoped>\n",
       "    .dataframe tbody tr th:only-of-type {\n",
       "        vertical-align: middle;\n",
       "    }\n",
       "\n",
       "    .dataframe tbody tr th {\n",
       "        vertical-align: top;\n",
       "    }\n",
       "\n",
       "    .dataframe thead th {\n",
       "        text-align: right;\n",
       "    }\n",
       "</style>\n",
       "<table border=\"1\" class=\"dataframe\">\n",
       "  <thead>\n",
       "    <tr style=\"text-align: right;\">\n",
       "      <th></th>\n",
       "      <th>INT_SQFT</th>\n",
       "      <th>SALES_PRICE</th>\n",
       "    </tr>\n",
       "  </thead>\n",
       "  <tbody>\n",
       "    <tr>\n",
       "      <th>INT_SQFT</th>\n",
       "      <td>1.000000</td>\n",
       "      <td>0.612125</td>\n",
       "    </tr>\n",
       "    <tr>\n",
       "      <th>SALES_PRICE</th>\n",
       "      <td>0.612125</td>\n",
       "      <td>1.000000</td>\n",
       "    </tr>\n",
       "  </tbody>\n",
       "</table>\n",
       "</div>"
      ],
      "text/plain": [
       "             INT_SQFT  SALES_PRICE\n",
       "INT_SQFT     1.000000     0.612125\n",
       "SALES_PRICE  0.612125     1.000000"
      ]
     },
     "execution_count": 34,
     "metadata": {},
     "output_type": "execute_result"
    }
   ],
   "source": [
    "df[['INT_SQFT','SALES_PRICE']].corr()"
   ]
  },
  {
   "cell_type": "markdown",
   "id": "94ac23b7",
   "metadata": {},
   "source": [
    "The INT_SQFT vs SALES_PRICE correlation value confirms there's good linear relationship between them."
   ]
  },
  {
   "cell_type": "code",
   "execution_count": 35,
   "id": "81b8251d",
   "metadata": {},
   "outputs": [
    {
     "data": {
      "text/plain": [
       "Text(0.5, 1.0, 'Distance from Mainroad VS Sales Price')"
      ]
     },
     "execution_count": 35,
     "metadata": {},
     "output_type": "execute_result"
    },
    {
     "data": {
      "image/png": "[encoded data removed]",
      "text/plain": [
       "<Figure size 1080x720 with 2 Axes>"
      ]
     },
     "metadata": {
      "needs_background": "light"
     },
     "output_type": "display_data"
    }
   ],
   "source": [
    "plt.figure(figsize =(15,10))\n",
    "\n",
    "plt.subplot(2,2,1)\n",
    "sns.histplot(x='DIST_MAINROAD', data = df)\n",
    "plt.xlabel('DIST_MAINROAD')\n",
    "plt.ylabel('VALUE')\n",
    "plt.title('Distribution')\n",
    "\n",
    "plt.subplot(2,2,2)\n",
    "df.groupby('DIST_MAINROAD')['SALES_PRICE'].mean().plot(style='o')\n",
    "plt.xlabel('DIST_MAINROAD')\n",
    "plt.ylabel('SALES_PRICE')\n",
    "plt.title('Distance from Mainroad VS Sales Price')"
   ]
  },
  {
   "cell_type": "markdown",
   "id": "0907a41a",
   "metadata": {},
   "source": [
    "Distribution of the DIST_MAINROAD Column follows uniform distribution with occasional high.\n",
    "\n",
    "The INT_SQFT vs SALES_PRICE plot didn't show any relationship between them."
   ]
  },
  {
   "cell_type": "code",
   "execution_count": 36,
   "id": "bc468f9c",
   "metadata": {},
   "outputs": [
    {
     "data": {
      "text/html": [
       "<div>\n",
       "<style scoped>\n",
       "    .dataframe tbody tr th:only-of-type {\n",
       "        vertical-align: middle;\n",
       "    }\n",
       "\n",
       "    .dataframe tbody tr th {\n",
       "        vertical-align: top;\n",
       "    }\n",
       "\n",
       "    .dataframe thead th {\n",
       "        text-align: right;\n",
       "    }\n",
       "</style>\n",
       "<table border=\"1\" class=\"dataframe\">\n",
       "  <thead>\n",
       "    <tr style=\"text-align: right;\">\n",
       "      <th></th>\n",
       "      <th>DIST_MAINROAD</th>\n",
       "      <th>SALES_PRICE</th>\n",
       "    </tr>\n",
       "  </thead>\n",
       "  <tbody>\n",
       "    <tr>\n",
       "      <th>DIST_MAINROAD</th>\n",
       "      <td>1.000000</td>\n",
       "      <td>0.018783</td>\n",
       "    </tr>\n",
       "    <tr>\n",
       "      <th>SALES_PRICE</th>\n",
       "      <td>0.018783</td>\n",
       "      <td>1.000000</td>\n",
       "    </tr>\n",
       "  </tbody>\n",
       "</table>\n",
       "</div>"
      ],
      "text/plain": [
       "               DIST_MAINROAD  SALES_PRICE\n",
       "DIST_MAINROAD       1.000000     0.018783\n",
       "SALES_PRICE         0.018783     1.000000"
      ]
     },
     "execution_count": 36,
     "metadata": {},
     "output_type": "execute_result"
    }
   ],
   "source": [
    "df[['DIST_MAINROAD','SALES_PRICE']].corr()"
   ]
  },
  {
   "cell_type": "markdown",
   "id": "83073545",
   "metadata": {},
   "source": [
    "The DIST_MAINROAD vs SALES_PRICE correlation value confirms there's no linear relationship between them."
   ]
  },
  {
   "cell_type": "markdown",
   "id": "581cf0eb",
   "metadata": {},
   "source": [
    "### Transformation of the feature"
   ]
  },
  {
   "cell_type": "code",
   "execution_count": 37,
   "id": "d8812de8",
   "metadata": {},
   "outputs": [
    {
     "data": {
      "image/png": "[encoded data removed]",
      "text/plain": [
       "<Figure size 432x288 with 1 Axes>"
      ]
     },
     "metadata": {
      "needs_background": "light"
     },
     "output_type": "display_data"
    },
    {
     "data": {
      "text/html": [
       "<div>\n",
       "<style scoped>\n",
       "    .dataframe tbody tr th:only-of-type {\n",
       "        vertical-align: middle;\n",
       "    }\n",
       "\n",
       "    .dataframe tbody tr th {\n",
       "        vertical-align: top;\n",
       "    }\n",
       "\n",
       "    .dataframe thead th {\n",
       "        text-align: right;\n",
       "    }\n",
       "</style>\n",
       "<table border=\"1\" class=\"dataframe\">\n",
       "  <thead>\n",
       "    <tr style=\"text-align: right;\">\n",
       "      <th></th>\n",
       "      <th>TRANS_DIST_MAINROAD</th>\n",
       "      <th>SALES_PRICE</th>\n",
       "    </tr>\n",
       "  </thead>\n",
       "  <tbody>\n",
       "    <tr>\n",
       "      <th>TRANS_DIST_MAINROAD</th>\n",
       "      <td>1.000000</td>\n",
       "      <td>0.011282</td>\n",
       "    </tr>\n",
       "    <tr>\n",
       "      <th>SALES_PRICE</th>\n",
       "      <td>0.011282</td>\n",
       "      <td>1.000000</td>\n",
       "    </tr>\n",
       "  </tbody>\n",
       "</table>\n",
       "</div>"
      ],
      "text/plain": [
       "                     TRANS_DIST_MAINROAD  SALES_PRICE\n",
       "TRANS_DIST_MAINROAD             1.000000     0.011282\n",
       "SALES_PRICE                     0.011282     1.000000"
      ]
     },
     "execution_count": 37,
     "metadata": {},
     "output_type": "execute_result"
    }
   ],
   "source": [
    "df['TRANS_DIST_MAINROAD'] = np.log(df['DIST_MAINROAD'])\n",
    "# np.power(df['DIST_MAINROAD'],3) \n",
    "df.groupby('TRANS_DIST_MAINROAD')['SALES_PRICE'].mean().plot(style='o')\n",
    "#df.plot(x='TRANS_DIST_MAINROAD', y='SALES_PRICE', style='o')\n",
    "plt.title('DIST_MAINROAD VS Sales Price')\n",
    "plt.xlabel('DIST_MAINROAD')\n",
    "plt.ylabel('SALES_PRICE')\n",
    "plt.show()\n",
    "df[['TRANS_DIST_MAINROAD','SALES_PRICE']].corr()"
   ]
  },
  {
   "cell_type": "markdown",
   "id": "345a2ada",
   "metadata": {},
   "source": [
    "1) There is no relationship between DIST_MAINROAD and SALES_PRICE\n",
    "2) Have tried all transformations - still not able to see a relationship"
   ]
  },
  {
   "cell_type": "code",
   "execution_count": 38,
   "id": "712c78c2",
   "metadata": {},
   "outputs": [
    {
     "data": {
      "text/plain": [
       "Text(0.5, 1.0, 'QS_ROOMS VS Sales Price')"
      ]
     },
     "execution_count": 38,
     "metadata": {},
     "output_type": "execute_result"
    },
    {
     "data": {
      "image/png": "[encoded data removed]",
      "text/plain": [
       "<Figure size 1080x720 with 2 Axes>"
      ]
     },
     "metadata": {
      "needs_background": "light"
     },
     "output_type": "display_data"
    }
   ],
   "source": [
    "plt.figure(figsize =(15,10))\n",
    "\n",
    "plt.subplot(2,2,1)\n",
    "sns.histplot(x='QS_ROOMS', data = df)\n",
    "plt.xlabel('QS_ROOMS')\n",
    "plt.ylabel('VALUE')\n",
    "plt.title('Distribution')\n",
    "\n",
    "plt.subplot(2,2,2)\n",
    "df.groupby('QS_ROOMS')['SALES_PRICE'].mean().plot(style='o')\n",
    "plt.xlabel('QS_ROOMS')\n",
    "plt.ylabel('SALES_PRICE')\n",
    "plt.title('QS_ROOMS VS Sales Price')"
   ]
  },
  {
   "cell_type": "markdown",
   "id": "739b589b",
   "metadata": {},
   "source": [
    "Distribution of the QS_ROOMS Column follows uniform distribution with occasional steep. Its a masked feature since we are not sure about its properties.\n",
    "\n",
    "The QS_ROOMS vs SALES_PRICE plot didn't show any relationship between them."
   ]
  },
  {
   "cell_type": "code",
   "execution_count": 39,
   "id": "7134c633",
   "metadata": {},
   "outputs": [
    {
     "data": {
      "text/html": [
       "<div>\n",
       "<style scoped>\n",
       "    .dataframe tbody tr th:only-of-type {\n",
       "        vertical-align: middle;\n",
       "    }\n",
       "\n",
       "    .dataframe tbody tr th {\n",
       "        vertical-align: top;\n",
       "    }\n",
       "\n",
       "    .dataframe thead th {\n",
       "        text-align: right;\n",
       "    }\n",
       "</style>\n",
       "<table border=\"1\" class=\"dataframe\">\n",
       "  <thead>\n",
       "    <tr style=\"text-align: right;\">\n",
       "      <th></th>\n",
       "      <th>QS_ROOMS</th>\n",
       "      <th>SALES_PRICE</th>\n",
       "    </tr>\n",
       "  </thead>\n",
       "  <tbody>\n",
       "    <tr>\n",
       "      <th>QS_ROOMS</th>\n",
       "      <td>1.000000</td>\n",
       "      <td>0.021967</td>\n",
       "    </tr>\n",
       "    <tr>\n",
       "      <th>SALES_PRICE</th>\n",
       "      <td>0.021967</td>\n",
       "      <td>1.000000</td>\n",
       "    </tr>\n",
       "  </tbody>\n",
       "</table>\n",
       "</div>"
      ],
      "text/plain": [
       "             QS_ROOMS  SALES_PRICE\n",
       "QS_ROOMS     1.000000     0.021967\n",
       "SALES_PRICE  0.021967     1.000000"
      ]
     },
     "execution_count": 39,
     "metadata": {},
     "output_type": "execute_result"
    }
   ],
   "source": [
    "df[['QS_ROOMS','SALES_PRICE']].corr()"
   ]
  },
  {
   "cell_type": "markdown",
   "id": "d3da3b99",
   "metadata": {},
   "source": [
    "The QS_ROOMS vs SALES_PRICE correlation value confirms there's no linear relationship between them."
   ]
  },
  {
   "cell_type": "markdown",
   "id": "61b42976",
   "metadata": {},
   "source": [
    "### Transformation of the feature"
   ]
  },
  {
   "cell_type": "code",
   "execution_count": 40,
   "id": "c8932d30",
   "metadata": {},
   "outputs": [
    {
     "data": {
      "image/png": "[encoded data removed]",
      "text/plain": [
       "<Figure size 432x288 with 1 Axes>"
      ]
     },
     "metadata": {
      "needs_background": "light"
     },
     "output_type": "display_data"
    },
    {
     "data": {
      "text/html": [
       "<div>\n",
       "<style scoped>\n",
       "    .dataframe tbody tr th:only-of-type {\n",
       "        vertical-align: middle;\n",
       "    }\n",
       "\n",
       "    .dataframe tbody tr th {\n",
       "        vertical-align: top;\n",
       "    }\n",
       "\n",
       "    .dataframe thead th {\n",
       "        text-align: right;\n",
       "    }\n",
       "</style>\n",
       "<table border=\"1\" class=\"dataframe\">\n",
       "  <thead>\n",
       "    <tr style=\"text-align: right;\">\n",
       "      <th></th>\n",
       "      <th>TRANS_QS_ROOMS</th>\n",
       "      <th>SALES_PRICE</th>\n",
       "    </tr>\n",
       "  </thead>\n",
       "  <tbody>\n",
       "    <tr>\n",
       "      <th>TRANS_QS_ROOMS</th>\n",
       "      <td>1.000000</td>\n",
       "      <td>0.021231</td>\n",
       "    </tr>\n",
       "    <tr>\n",
       "      <th>SALES_PRICE</th>\n",
       "      <td>0.021231</td>\n",
       "      <td>1.000000</td>\n",
       "    </tr>\n",
       "  </tbody>\n",
       "</table>\n",
       "</div>"
      ],
      "text/plain": [
       "                TRANS_QS_ROOMS  SALES_PRICE\n",
       "TRANS_QS_ROOMS        1.000000     0.021231\n",
       "SALES_PRICE           0.021231     1.000000"
      ]
     },
     "execution_count": 40,
     "metadata": {},
     "output_type": "execute_result"
    }
   ],
   "source": [
    "df['TRANS_QS_ROOMS'] = np.power(df['QS_ROOMS'],0.5)\n",
    "# np.power(df['DIST_MAINROAD'],3) \n",
    "df.groupby('TRANS_QS_ROOMS')['SALES_PRICE'].mean().plot(style='o')\n",
    "#df.plot(x='TRANS_DIST_MAINROAD', y='SALES_PRICE', style='o')\n",
    "plt.title('QS_ROOMS VS Sales Price')\n",
    "plt.xlabel('QS_ROOMS')\n",
    "plt.ylabel('SALES_PRICE')\n",
    "plt.show()\n",
    "df[['TRANS_QS_ROOMS','SALES_PRICE']].corr()"
   ]
  },
  {
   "cell_type": "markdown",
   "id": "9d6c5841",
   "metadata": {},
   "source": [
    "1) There is no relationship between QS_ROOM and SALES_PRICE\n",
    "2) Have tried all transformations - still not able to see a relationship"
   ]
  },
  {
   "cell_type": "code",
   "execution_count": 41,
   "id": "602ba84a",
   "metadata": {},
   "outputs": [
    {
     "data": {
      "text/plain": [
       "Text(0.5, 1.0, 'QS_BATHROOM VS Sales Price')"
      ]
     },
     "execution_count": 41,
     "metadata": {},
     "output_type": "execute_result"
    },
    {
     "data": {
      "image/png": "[encoded data removed]",
      "text/plain": [
       "<Figure size 1080x720 with 2 Axes>"
      ]
     },
     "metadata": {
      "needs_background": "light"
     },
     "output_type": "display_data"
    }
   ],
   "source": [
    "plt.figure(figsize =(15,10))\n",
    "\n",
    "plt.subplot(2,2,1)\n",
    "sns.histplot(x='QS_BATHROOM', data = df)\n",
    "plt.xlabel('QS_BATHROOM')\n",
    "plt.ylabel('VALUE')\n",
    "plt.title('Distribution')\n",
    "\n",
    "plt.subplot(2,2,2)\n",
    "df.groupby('QS_BATHROOM')['SALES_PRICE'].mean().plot(style='o')\n",
    "plt.title('QS_BATHROOM VS Sales Price')"
   ]
  },
  {
   "cell_type": "markdown",
   "id": "fc32f19f",
   "metadata": {},
   "source": [
    "Distribution of the QS_BATHROOM Column follows uniform distribution with occasional steep. Its a masked feature since we are not sure about its properties.\n",
    "\n",
    "The QS_BATHROOM vs SALES_PRICE plot didn't show any relationship between them."
   ]
  },
  {
   "cell_type": "code",
   "execution_count": 42,
   "id": "497601d9",
   "metadata": {},
   "outputs": [
    {
     "data": {
      "text/html": [
       "<div>\n",
       "<style scoped>\n",
       "    .dataframe tbody tr th:only-of-type {\n",
       "        vertical-align: middle;\n",
       "    }\n",
       "\n",
       "    .dataframe tbody tr th {\n",
       "        vertical-align: top;\n",
       "    }\n",
       "\n",
       "    .dataframe thead th {\n",
       "        text-align: right;\n",
       "    }\n",
       "</style>\n",
       "<table border=\"1\" class=\"dataframe\">\n",
       "  <thead>\n",
       "    <tr style=\"text-align: right;\">\n",
       "      <th></th>\n",
       "      <th>QS_BATHROOM</th>\n",
       "      <th>SALES_PRICE</th>\n",
       "    </tr>\n",
       "  </thead>\n",
       "  <tbody>\n",
       "    <tr>\n",
       "      <th>QS_BATHROOM</th>\n",
       "      <td>1.000000</td>\n",
       "      <td>-0.011377</td>\n",
       "    </tr>\n",
       "    <tr>\n",
       "      <th>SALES_PRICE</th>\n",
       "      <td>-0.011377</td>\n",
       "      <td>1.000000</td>\n",
       "    </tr>\n",
       "  </tbody>\n",
       "</table>\n",
       "</div>"
      ],
      "text/plain": [
       "             QS_BATHROOM  SALES_PRICE\n",
       "QS_BATHROOM     1.000000    -0.011377\n",
       "SALES_PRICE    -0.011377     1.000000"
      ]
     },
     "execution_count": 42,
     "metadata": {},
     "output_type": "execute_result"
    }
   ],
   "source": [
    "df[['QS_BATHROOM','SALES_PRICE']].corr()"
   ]
  },
  {
   "cell_type": "markdown",
   "id": "c7daf6ed",
   "metadata": {},
   "source": [
    "The QS_BATHROOM vs SALES_PRICE correlation value confirms there's no linear relationship between them."
   ]
  },
  {
   "cell_type": "markdown",
   "id": "9534f09e",
   "metadata": {},
   "source": [
    "### Transformation of the feature"
   ]
  },
  {
   "cell_type": "code",
   "execution_count": 43,
   "id": "1f2563df",
   "metadata": {},
   "outputs": [
    {
     "data": {
      "image/png": "[encoded data removed]",
      "text/plain": [
       "<Figure size 432x288 with 1 Axes>"
      ]
     },
     "metadata": {
      "needs_background": "light"
     },
     "output_type": "display_data"
    },
    {
     "data": {
      "text/html": [
       "<div>\n",
       "<style scoped>\n",
       "    .dataframe tbody tr th:only-of-type {\n",
       "        vertical-align: middle;\n",
       "    }\n",
       "\n",
       "    .dataframe tbody tr th {\n",
       "        vertical-align: top;\n",
       "    }\n",
       "\n",
       "    .dataframe thead th {\n",
       "        text-align: right;\n",
       "    }\n",
       "</style>\n",
       "<table border=\"1\" class=\"dataframe\">\n",
       "  <thead>\n",
       "    <tr style=\"text-align: right;\">\n",
       "      <th></th>\n",
       "      <th>TRANS_QS_BATHROOM</th>\n",
       "      <th>SALES_PRICE</th>\n",
       "    </tr>\n",
       "  </thead>\n",
       "  <tbody>\n",
       "    <tr>\n",
       "      <th>TRANS_QS_BATHROOM</th>\n",
       "      <td>1.000000</td>\n",
       "      <td>-0.013562</td>\n",
       "    </tr>\n",
       "    <tr>\n",
       "      <th>SALES_PRICE</th>\n",
       "      <td>-0.013562</td>\n",
       "      <td>1.000000</td>\n",
       "    </tr>\n",
       "  </tbody>\n",
       "</table>\n",
       "</div>"
      ],
      "text/plain": [
       "                   TRANS_QS_BATHROOM  SALES_PRICE\n",
       "TRANS_QS_BATHROOM           1.000000    -0.013562\n",
       "SALES_PRICE                -0.013562     1.000000"
      ]
     },
     "execution_count": 43,
     "metadata": {},
     "output_type": "execute_result"
    }
   ],
   "source": [
    "df['TRANS_QS_BATHROOM'] = np.exp(df['QS_BATHROOM'])\n",
    "# np.power(df['DIST_MAINROAD'],3) \n",
    "df.groupby('TRANS_QS_BATHROOM')['SALES_PRICE'].mean().plot(style='o')\n",
    "#df.plot(x='TRANS_DIST_MAINROAD', y='SALES_PRICE', style='o')\n",
    "plt.title('QS_BATHROOM VS Sales Price')\n",
    "plt.xlabel('QS_BATHROOM')\n",
    "plt.ylabel('SALES_PRICE')\n",
    "plt.show()\n",
    "df[['TRANS_QS_BATHROOM','SALES_PRICE']].corr()"
   ]
  },
  {
   "cell_type": "markdown",
   "id": "500ee350",
   "metadata": {},
   "source": [
    "1) There is no relationship between QS_BATHROOM and SALES_PRICE\n",
    "2) Have tried all transformations - still not able to see a relationship"
   ]
  },
  {
   "cell_type": "code",
   "execution_count": 44,
   "id": "396485c8",
   "metadata": {},
   "outputs": [
    {
     "data": {
      "text/plain": [
       "Text(0.5, 1.0, 'QS_BEDROOM VS Sales Price')"
      ]
     },
     "execution_count": 44,
     "metadata": {},
     "output_type": "execute_result"
    },
    {
     "data": {
      "image/png": "[encoded data removed]",
      "text/plain": [
       "<Figure size 1080x720 with 2 Axes>"
      ]
     },
     "metadata": {
      "needs_background": "light"
     },
     "output_type": "display_data"
    }
   ],
   "source": [
    "plt.figure(figsize =(15,10))\n",
    "\n",
    "plt.subplot(2,2,1)\n",
    "sns.histplot(x='QS_BEDROOM', data = df)\n",
    "plt.xlabel('QS_BEDROOM')\n",
    "plt.ylabel('VALUE')\n",
    "plt.title('Distribution')\n",
    "\n",
    "plt.subplot(2,2,2)\n",
    "df.groupby('QS_BEDROOM')['SALES_PRICE'].mean().plot(style='o')\n",
    "plt.title('QS_BEDROOM VS Sales Price')"
   ]
  },
  {
   "cell_type": "markdown",
   "id": "8a179db4",
   "metadata": {},
   "source": [
    "Distribution of the QS_BEDROOM Column follows uniform distribution with occasional steep. Its a masked feature since we are not sure about its properties.\n",
    "\n",
    "The QS_BEDROOM vs SALES_PRICE plot didn't show any relationship between them."
   ]
  },
  {
   "cell_type": "code",
   "execution_count": 45,
   "id": "eeaea984",
   "metadata": {},
   "outputs": [
    {
     "data": {
      "text/html": [
       "<div>\n",
       "<style scoped>\n",
       "    .dataframe tbody tr th:only-of-type {\n",
       "        vertical-align: middle;\n",
       "    }\n",
       "\n",
       "    .dataframe tbody tr th {\n",
       "        vertical-align: top;\n",
       "    }\n",
       "\n",
       "    .dataframe thead th {\n",
       "        text-align: right;\n",
       "    }\n",
       "</style>\n",
       "<table border=\"1\" class=\"dataframe\">\n",
       "  <thead>\n",
       "    <tr style=\"text-align: right;\">\n",
       "      <th></th>\n",
       "      <th>QS_BEDROOM</th>\n",
       "      <th>SALES_PRICE</th>\n",
       "    </tr>\n",
       "  </thead>\n",
       "  <tbody>\n",
       "    <tr>\n",
       "      <th>QS_BEDROOM</th>\n",
       "      <td>1.000000</td>\n",
       "      <td>0.018804</td>\n",
       "    </tr>\n",
       "    <tr>\n",
       "      <th>SALES_PRICE</th>\n",
       "      <td>0.018804</td>\n",
       "      <td>1.000000</td>\n",
       "    </tr>\n",
       "  </tbody>\n",
       "</table>\n",
       "</div>"
      ],
      "text/plain": [
       "             QS_BEDROOM  SALES_PRICE\n",
       "QS_BEDROOM     1.000000     0.018804\n",
       "SALES_PRICE    0.018804     1.000000"
      ]
     },
     "execution_count": 45,
     "metadata": {},
     "output_type": "execute_result"
    }
   ],
   "source": [
    "df[['QS_BEDROOM','SALES_PRICE']].corr()"
   ]
  },
  {
   "cell_type": "markdown",
   "id": "f92fdd65",
   "metadata": {},
   "source": [
    "The QS_BATHROOM vs SALES_PRICE correlation value confirms there's no linear relationship between them."
   ]
  },
  {
   "cell_type": "markdown",
   "id": "3931d5d4",
   "metadata": {},
   "source": [
    "### Transformation of the feature"
   ]
  },
  {
   "cell_type": "code",
   "execution_count": 46,
   "id": "16fdba1a",
   "metadata": {},
   "outputs": [
    {
     "data": {
      "image/png": "[encoded data removed]",
      "text/plain": [
       "<Figure size 432x288 with 1 Axes>"
      ]
     },
     "metadata": {
      "needs_background": "light"
     },
     "output_type": "display_data"
    },
    {
     "data": {
      "text/html": [
       "<div>\n",
       "<style scoped>\n",
       "    .dataframe tbody tr th:only-of-type {\n",
       "        vertical-align: middle;\n",
       "    }\n",
       "\n",
       "    .dataframe tbody tr th {\n",
       "        vertical-align: top;\n",
       "    }\n",
       "\n",
       "    .dataframe thead th {\n",
       "        text-align: right;\n",
       "    }\n",
       "</style>\n",
       "<table border=\"1\" class=\"dataframe\">\n",
       "  <thead>\n",
       "    <tr style=\"text-align: right;\">\n",
       "      <th></th>\n",
       "      <th>TRANS_QS_BEDROOM</th>\n",
       "      <th>SALES_PRICE</th>\n",
       "    </tr>\n",
       "  </thead>\n",
       "  <tbody>\n",
       "    <tr>\n",
       "      <th>TRANS_QS_BEDROOM</th>\n",
       "      <td>1.000000</td>\n",
       "      <td>0.014221</td>\n",
       "    </tr>\n",
       "    <tr>\n",
       "      <th>SALES_PRICE</th>\n",
       "      <td>0.014221</td>\n",
       "      <td>1.000000</td>\n",
       "    </tr>\n",
       "  </tbody>\n",
       "</table>\n",
       "</div>"
      ],
      "text/plain": [
       "                  TRANS_QS_BEDROOM  SALES_PRICE\n",
       "TRANS_QS_BEDROOM          1.000000     0.014221\n",
       "SALES_PRICE               0.014221     1.000000"
      ]
     },
     "execution_count": 46,
     "metadata": {},
     "output_type": "execute_result"
    }
   ],
   "source": [
    "df['TRANS_QS_BEDROOM'] = np.power(df['QS_BEDROOM'],3)\n",
    "# np.power(df['DIST_MAINROAD'],3) \n",
    "df.groupby('TRANS_QS_BEDROOM')['SALES_PRICE'].mean().plot(style='o')\n",
    "#df.plot(x='TRANS_DIST_MAINROAD', y='SALES_PRICE', style='o')\n",
    "plt.title('QS_BEDROOM VS Sales Price')\n",
    "plt.xlabel('QS_BEDROOM')\n",
    "plt.ylabel('SALES_PRICE')\n",
    "plt.show()\n",
    "df[['TRANS_QS_BEDROOM','SALES_PRICE']].corr()"
   ]
  },
  {
   "cell_type": "markdown",
   "id": "cad359be",
   "metadata": {},
   "source": [
    "1) There is no relationship between QS_BEDROOM and SALES_PRICE\n",
    "2) Have tried all transformations - still not able to see a relationship"
   ]
  },
  {
   "cell_type": "code",
   "execution_count": 47,
   "id": "2dd13443",
   "metadata": {},
   "outputs": [
    {
     "data": {
      "text/plain": [
       "Text(0.5, 1.0, 'QS_OVERALL VS Sales Price')"
      ]
     },
     "execution_count": 47,
     "metadata": {},
     "output_type": "execute_result"
    },
    {
     "data": {
      "image/png": "[encoded data removed]",
      "text/plain": [
       "<Figure size 1080x720 with 2 Axes>"
      ]
     },
     "metadata": {
      "needs_background": "light"
     },
     "output_type": "display_data"
    }
   ],
   "source": [
    "plt.figure(figsize =(15,10))\n",
    "\n",
    "plt.subplot(2,2,1)\n",
    "sns.histplot(x='QS_OVERALL', data = df)\n",
    "plt.xlabel('QS_OVERALL')\n",
    "plt.ylabel('VALUE')\n",
    "plt.title('Distribution')\n",
    "\n",
    "plt.subplot(2,2,2)\n",
    "df.groupby('QS_OVERALL')['SALES_PRICE'].mean().plot(style='o')\n",
    "plt.title('QS_OVERALL VS Sales Price')"
   ]
  },
  {
   "cell_type": "markdown",
   "id": "7bb84ae0",
   "metadata": {},
   "source": [
    "Distribution of the QS_OVERALL Column follows noraml distribution. Its a masked feature since we are not sure about its properties.\n",
    "\n",
    "The QS_OVERALL vs SALES_PRICE plot didn't show any relationship between them."
   ]
  },
  {
   "cell_type": "code",
   "execution_count": 48,
   "id": "1d2ff91f",
   "metadata": {},
   "outputs": [
    {
     "data": {
      "text/html": [
       "<div>\n",
       "<style scoped>\n",
       "    .dataframe tbody tr th:only-of-type {\n",
       "        vertical-align: middle;\n",
       "    }\n",
       "\n",
       "    .dataframe tbody tr th {\n",
       "        vertical-align: top;\n",
       "    }\n",
       "\n",
       "    .dataframe thead th {\n",
       "        text-align: right;\n",
       "    }\n",
       "</style>\n",
       "<table border=\"1\" class=\"dataframe\">\n",
       "  <thead>\n",
       "    <tr style=\"text-align: right;\">\n",
       "      <th></th>\n",
       "      <th>QS_OVERALL</th>\n",
       "      <th>SALES_PRICE</th>\n",
       "    </tr>\n",
       "  </thead>\n",
       "  <tbody>\n",
       "    <tr>\n",
       "      <th>QS_OVERALL</th>\n",
       "      <td>1.000000</td>\n",
       "      <td>0.020016</td>\n",
       "    </tr>\n",
       "    <tr>\n",
       "      <th>SALES_PRICE</th>\n",
       "      <td>0.020016</td>\n",
       "      <td>1.000000</td>\n",
       "    </tr>\n",
       "  </tbody>\n",
       "</table>\n",
       "</div>"
      ],
      "text/plain": [
       "             QS_OVERALL  SALES_PRICE\n",
       "QS_OVERALL     1.000000     0.020016\n",
       "SALES_PRICE    0.020016     1.000000"
      ]
     },
     "execution_count": 48,
     "metadata": {},
     "output_type": "execute_result"
    }
   ],
   "source": [
    "df[['QS_OVERALL','SALES_PRICE']].corr()"
   ]
  },
  {
   "cell_type": "markdown",
   "id": "db2caca6",
   "metadata": {},
   "source": [
    "The QS_OVERALL vs SALES_PRICE correlation value confirms there's no linear relationship between them."
   ]
  },
  {
   "cell_type": "markdown",
   "id": "5f641bd5",
   "metadata": {},
   "source": [
    "### Transformation of the feature"
   ]
  },
  {
   "cell_type": "code",
   "execution_count": 49,
   "id": "f1979eaf",
   "metadata": {},
   "outputs": [
    {
     "data": {
      "image/png": "[encoded data removed]",
      "text/plain": [
       "<Figure size 432x288 with 1 Axes>"
      ]
     },
     "metadata": {
      "needs_background": "light"
     },
     "output_type": "display_data"
    },
    {
     "data": {
      "text/html": [
       "<div>\n",
       "<style scoped>\n",
       "    .dataframe tbody tr th:only-of-type {\n",
       "        vertical-align: middle;\n",
       "    }\n",
       "\n",
       "    .dataframe tbody tr th {\n",
       "        vertical-align: top;\n",
       "    }\n",
       "\n",
       "    .dataframe thead th {\n",
       "        text-align: right;\n",
       "    }\n",
       "</style>\n",
       "<table border=\"1\" class=\"dataframe\">\n",
       "  <thead>\n",
       "    <tr style=\"text-align: right;\">\n",
       "      <th></th>\n",
       "      <th>TRANS_QS_OVERALL</th>\n",
       "      <th>SALES_PRICE</th>\n",
       "    </tr>\n",
       "  </thead>\n",
       "  <tbody>\n",
       "    <tr>\n",
       "      <th>TRANS_QS_OVERALL</th>\n",
       "      <td>1.000000</td>\n",
       "      <td>0.018681</td>\n",
       "    </tr>\n",
       "    <tr>\n",
       "      <th>SALES_PRICE</th>\n",
       "      <td>0.018681</td>\n",
       "      <td>1.000000</td>\n",
       "    </tr>\n",
       "  </tbody>\n",
       "</table>\n",
       "</div>"
      ],
      "text/plain": [
       "                  TRANS_QS_OVERALL  SALES_PRICE\n",
       "TRANS_QS_OVERALL          1.000000     0.018681\n",
       "SALES_PRICE               0.018681     1.000000"
      ]
     },
     "execution_count": 49,
     "metadata": {},
     "output_type": "execute_result"
    }
   ],
   "source": [
    "df['TRANS_QS_OVERALL'] = np.exp(df['QS_OVERALL'])\n",
    "# np.power(df['DIST_MAINROAD'],3) \n",
    "df.groupby('TRANS_QS_OVERALL')['SALES_PRICE'].mean().plot(style='o')\n",
    "#df.plot(x='TRANS_DIST_MAINROAD', y='SALES_PRICE', style='o')\n",
    "plt.title('QS_OVERALL VS Sales Price')\n",
    "plt.xlabel('QS_OVERALL')\n",
    "plt.ylabel('SALES_PRICE')\n",
    "plt.show()\n",
    "df[['TRANS_QS_OVERALL','SALES_PRICE']].corr()"
   ]
  },
  {
   "cell_type": "markdown",
   "id": "70f389bf",
   "metadata": {},
   "source": [
    "1) There is no relationship between QS_OVERALL and SALES_PRICE\n",
    "2) Have tried all transformations - still not able to see a relationship"
   ]
  },
  {
   "cell_type": "code",
   "execution_count": 50,
   "id": "cc656139",
   "metadata": {},
   "outputs": [
    {
     "data": {
      "text/plain": [
       "Text(0.5, 1.0, 'HOUSE_AGE VS Sales Price')"
      ]
     },
     "execution_count": 50,
     "metadata": {},
     "output_type": "execute_result"
    },
    {
     "data": {
      "image/png": "[encoded data removed]",
      "text/plain": [
       "<Figure size 1080x720 with 2 Axes>"
      ]
     },
     "metadata": {
      "needs_background": "light"
     },
     "output_type": "display_data"
    }
   ],
   "source": [
    "plt.figure(figsize =(15,10))\n",
    "\n",
    "plt.subplot(2,2,1)\n",
    "sns.histplot(x='HOUSE_AGE', data = df)\n",
    "plt.xlabel('HOUSE_AGE')\n",
    "plt.ylabel('VALUE')\n",
    "plt.title('Distribution')\n",
    "\n",
    "plt.subplot(2,2,2)\n",
    "#df.groupby('HOUSE_AGE')['SALES_PRICE'].mean().plot(style='o')\n",
    "sns.scatterplot(x = 'HOUSE_AGE', y = 'SALES_PRICE', data = df)\n",
    "plt.title('HOUSE_AGE VS Sales Price')"
   ]
  },
  {
   "cell_type": "markdown",
   "id": "3fd3915d",
   "metadata": {},
   "source": [
    "Distribution of the HOUSE_AGE Column distribution steeps as age of house increases. Its a derived feature added to dataset.\n",
    "\n",
    "The HOUSE_AGE vs SALES_PRICE plot shows there is a slight decrease in price as the Age of the house increases."
   ]
  },
  {
   "cell_type": "code",
   "execution_count": 51,
   "id": "9d7a8c10",
   "metadata": {},
   "outputs": [
    {
     "data": {
      "text/html": [
       "<div>\n",
       "<style scoped>\n",
       "    .dataframe tbody tr th:only-of-type {\n",
       "        vertical-align: middle;\n",
       "    }\n",
       "\n",
       "    .dataframe tbody tr th {\n",
       "        vertical-align: top;\n",
       "    }\n",
       "\n",
       "    .dataframe thead th {\n",
       "        text-align: right;\n",
       "    }\n",
       "</style>\n",
       "<table border=\"1\" class=\"dataframe\">\n",
       "  <thead>\n",
       "    <tr style=\"text-align: right;\">\n",
       "      <th></th>\n",
       "      <th>HOUSE_AGE</th>\n",
       "      <th>SALES_PRICE</th>\n",
       "    </tr>\n",
       "  </thead>\n",
       "  <tbody>\n",
       "    <tr>\n",
       "      <th>HOUSE_AGE</th>\n",
       "      <td>1.000000</td>\n",
       "      <td>-0.119285</td>\n",
       "    </tr>\n",
       "    <tr>\n",
       "      <th>SALES_PRICE</th>\n",
       "      <td>-0.119285</td>\n",
       "      <td>1.000000</td>\n",
       "    </tr>\n",
       "  </tbody>\n",
       "</table>\n",
       "</div>"
      ],
      "text/plain": [
       "             HOUSE_AGE  SALES_PRICE\n",
       "HOUSE_AGE     1.000000    -0.119285\n",
       "SALES_PRICE  -0.119285     1.000000"
      ]
     },
     "execution_count": 51,
     "metadata": {},
     "output_type": "execute_result"
    }
   ],
   "source": [
    "df[['HOUSE_AGE','SALES_PRICE']].corr()"
   ]
  },
  {
   "cell_type": "markdown",
   "id": "91adae59",
   "metadata": {},
   "source": [
    "The HOUSE_AGE vs SALES_PRICE correlation value confirms there's no linear relationship between them."
   ]
  },
  {
   "cell_type": "markdown",
   "id": "19479fc9",
   "metadata": {},
   "source": [
    "### Transformation of the feature"
   ]
  },
  {
   "cell_type": "code",
   "execution_count": 52,
   "id": "7dbb5371",
   "metadata": {},
   "outputs": [
    {
     "data": {
      "image/png": "[encoded data removed]",
      "text/plain": [
       "<Figure size 432x288 with 1 Axes>"
      ]
     },
     "metadata": {
      "needs_background": "light"
     },
     "output_type": "display_data"
    },
    {
     "data": {
      "text/html": [
       "<div>\n",
       "<style scoped>\n",
       "    .dataframe tbody tr th:only-of-type {\n",
       "        vertical-align: middle;\n",
       "    }\n",
       "\n",
       "    .dataframe tbody tr th {\n",
       "        vertical-align: top;\n",
       "    }\n",
       "\n",
       "    .dataframe thead th {\n",
       "        text-align: right;\n",
       "    }\n",
       "</style>\n",
       "<table border=\"1\" class=\"dataframe\">\n",
       "  <thead>\n",
       "    <tr style=\"text-align: right;\">\n",
       "      <th></th>\n",
       "      <th>TRANS_HOUSE_AGE</th>\n",
       "      <th>SALES_PRICE</th>\n",
       "    </tr>\n",
       "  </thead>\n",
       "  <tbody>\n",
       "    <tr>\n",
       "      <th>TRANS_HOUSE_AGE</th>\n",
       "      <td>1.000000</td>\n",
       "      <td>-0.011302</td>\n",
       "    </tr>\n",
       "    <tr>\n",
       "      <th>SALES_PRICE</th>\n",
       "      <td>-0.011302</td>\n",
       "      <td>1.000000</td>\n",
       "    </tr>\n",
       "  </tbody>\n",
       "</table>\n",
       "</div>"
      ],
      "text/plain": [
       "                 TRANS_HOUSE_AGE  SALES_PRICE\n",
       "TRANS_HOUSE_AGE         1.000000    -0.011302\n",
       "SALES_PRICE            -0.011302     1.000000"
      ]
     },
     "execution_count": 52,
     "metadata": {},
     "output_type": "execute_result"
    }
   ],
   "source": [
    "df['TRANS_HOUSE_AGE'] = np.exp(df['HOUSE_AGE'])\n",
    "# np.power(df['DIST_MAINROAD'],3) \n",
    "df.groupby('TRANS_HOUSE_AGE')['SALES_PRICE'].mean().plot(style='o')\n",
    "#df.plot(x='TRANS_DIST_MAINROAD', y='SALES_PRICE', style='o')\n",
    "plt.title('HOUSE_AGE VS Sales Price')\n",
    "plt.xlabel('HOUSE_AGE')\n",
    "plt.ylabel('SALES_PRICE')\n",
    "plt.show()\n",
    "df[['TRANS_HOUSE_AGE','SALES_PRICE']].corr()"
   ]
  },
  {
   "cell_type": "markdown",
   "id": "134be7da",
   "metadata": {},
   "source": [
    "1) There is no linear relationship between HOUSE_AGE and SALES_PRICE\n",
    "2) Have tried all transformations - still not able to see a good linear relationship"
   ]
  },
  {
   "cell_type": "code",
   "execution_count": 53,
   "id": "82c3ae89",
   "metadata": {},
   "outputs": [],
   "source": [
    "#Dropping Transformed features from dataset \n",
    "df = df.drop(['TRANS_DIST_MAINROAD',\n",
    "       'TRANS_QS_ROOMS', 'TRANS_QS_BATHROOM', 'TRANS_QS_BEDROOM',\n",
    "       'TRANS_QS_OVERALL', 'TRANS_HOUSE_AGE'], axis=1)"
   ]
  },
  {
   "cell_type": "code",
   "execution_count": 54,
   "id": "a0f4b644",
   "metadata": {},
   "outputs": [],
   "source": [
    "#Dropping SALE_COND feature since its not affecting the sale price \n",
    "df = df.drop(['SALE_COND'], axis=1)"
   ]
  },
  {
   "cell_type": "markdown",
   "id": "44985c5b",
   "metadata": {},
   "source": [
    "### Encoding"
   ]
  },
  {
   "cell_type": "code",
   "execution_count": 55,
   "id": "8aaf4600",
   "metadata": {},
   "outputs": [],
   "source": [
    "#Label Encoding performed for below categorical features\n",
    "df['PARK_FACIL'] = df['PARK_FACIL'].map({'Yes':1, 'No':0})\n",
    "df['AREA'] = df['AREA'].map({'Karapakkam':0, 'Adyar':1, 'Chrompet':2, 'Velachery':3, 'KK Nagar':4, 'Anna Nagar':5, 'T Nagar':6})\n",
    "df['UTILITY_AVAIL'] = df['UTILITY_AVAIL'].map({'ELO':0, 'NoSewr':1, 'AllPub':2})\n",
    "df['STREET'] = df['STREET'].map({'NoAccess':0, 'Paved':1, 'Gravel':2})\n",
    "df['MZZONE'] = df['MZZONE'].map({'A':0, 'C':1, 'I':2, 'RH':4, 'RL':5, 'RM':6})\n"
   ]
  },
  {
   "cell_type": "code",
   "execution_count": 56,
   "id": "c1c73fea",
   "metadata": {},
   "outputs": [],
   "source": [
    "#One Hot Encoding performed for below categorical feature\n",
    "def onehot_encode(df, cols, pfxs):\n",
    "    df = df.copy()\n",
    "    for col, pfx in zip(cols, pfxs):\n",
    "        dummies = pd.get_dummies(df[col], prefix = pfx)\n",
    "        df = pd.concat([df, dummies], axis=1)\n",
    "        df = df.drop(col, axis=1)\n",
    "    return df"
   ]
  },
  {
   "cell_type": "code",
   "execution_count": 57,
   "id": "b79bcf96",
   "metadata": {},
   "outputs": [],
   "source": [
    "df = onehot_encode(\n",
    "    df, \n",
    "    ['BUILDTYPE'], \n",
    "    ['BUILDTYPE']\n",
    ")"
   ]
  },
  {
   "cell_type": "markdown",
   "id": "bf049b00",
   "metadata": {},
   "source": [
    "### Data Splitting"
   ]
  },
  {
   "cell_type": "markdown",
   "id": "9477e27b",
   "metadata": {},
   "source": [
    "Since we are trying to fit Linear Regreesion Model droppping features which are not having linear relationship with target.\n",
    "X_lin, Y_lin are the features and target used for fitting a Linear Regression Model"
   ]
  },
  {
   "cell_type": "code",
   "execution_count": 58,
   "id": "10158ad4",
   "metadata": {},
   "outputs": [],
   "source": [
    "X_lin = df.loc[:, ~df.columns.isin(['SALES_PRICE','DIST_MAINROAD','QS_ROOMS', 'QS_BATHROOM', 'QS_BEDROOM',\n",
    "       'QS_OVERALL', 'HOUSE_AGE'])]\n",
    "y_lin = df['SALES_PRICE']\n"
   ]
  },
  {
   "cell_type": "markdown",
   "id": "bbb4535e",
   "metadata": {},
   "source": [
    "Except the House_Age Column we are removing the columns that are  removed for Linear Regression Model. \n",
    "X, y are the features and target used for fitting Other Regression Model"
   ]
  },
  {
   "cell_type": "code",
   "execution_count": 59,
   "id": "e5ee94ca",
   "metadata": {},
   "outputs": [],
   "source": [
    "X = df.loc[:, ~df.columns.isin(['SALES_PRICE','DIST_MAINROAD','QS_ROOMS', 'QS_BATHROOM', 'QS_BEDROOM',\n",
    "       'QS_OVERALL'])]\n",
    "y = df['SALES_PRICE']"
   ]
  },
  {
   "cell_type": "markdown",
   "id": "d5a2650e",
   "metadata": {},
   "source": [
    "X_lin_train, X_lin_test, y_lin_train, y_lin_test are the data split for Linear Regression Model\n",
    "X_train, X_test, y_train, y_test are the data split for Other Regression Model"
   ]
  },
  {
   "cell_type": "code",
   "execution_count": 60,
   "id": "87aa56b4",
   "metadata": {},
   "outputs": [],
   "source": [
    "from sklearn.model_selection import train_test_split\n",
    "X_lin_train, X_lin_test, y_lin_train, y_lin_test = train_test_split(X_lin, y_lin, test_size=0.2, random_state=0)\n",
    "\n",
    "X_train, X_test, y_train, y_test = train_test_split(X, y, test_size=0.2, random_state=0)"
   ]
  },
  {
   "cell_type": "markdown",
   "id": "c6abe410",
   "metadata": {},
   "source": [
    "## Scaling"
   ]
  },
  {
   "cell_type": "code",
   "execution_count": 61,
   "id": "4dec66c8",
   "metadata": {},
   "outputs": [],
   "source": [
    "from sklearn.preprocessing import StandardScaler ## standrard scalig \n",
    "scaler = StandardScaler() #initialise to a variable\n",
    "\n",
    "#Scaling Features of Linear Regression Model\n",
    "scaler.fit(X_lin_train,y_lin_train) # we are finding the values of mean and sd from the td\n",
    "X_lin_train_scaled = scaler.transform(X_lin_train) # fit (mean, sd) and then transform the training data\n",
    "X_lin_test_scaled = scaler.transform(X_lin_test) # transform the test data \n",
    "\n",
    "#Scaling Features of Other Regression Model\n",
    "scaler.fit(X_train,y_train) # we are finding the values of mean and sd from the td\n",
    "X_train_scaled = scaler.transform(X_train) # fit (mean, sd) and then transform the training data\n",
    "X_test_scaled = scaler.transform(X_test) # transform the test data "
   ]
  },
  {
   "cell_type": "markdown",
   "id": "4a90211f",
   "metadata": {},
   "source": [
    "### Model Training"
   ]
  },
  {
   "cell_type": "markdown",
   "id": "5a16677a",
   "metadata": {},
   "source": [
    "#### Linear Regression"
   ]
  },
  {
   "cell_type": "code",
   "execution_count": 62,
   "id": "6f8c4aa5",
   "metadata": {},
   "outputs": [
    {
     "data": {
      "text/plain": [
       "array([14117789.98097204, 12924854.4328806 , 19065977.91464835, ...,\n",
       "       13650914.62498743, 15935586.33424057,  8105802.66694805])"
      ]
     },
     "execution_count": 62,
     "metadata": {},
     "output_type": "execute_result"
    }
   ],
   "source": [
    "#Trying fit the Linear Regression Model\n",
    "from sklearn.linear_model import LinearRegression\n",
    "regressor = LinearRegression()\n",
    "regressor.fit(X_lin_train_scaled, y_lin_train)\n",
    "y_pred = regressor.predict(X_lin_test_scaled)\n",
    "y_pred"
   ]
  },
  {
   "cell_type": "markdown",
   "id": "33500953",
   "metadata": {},
   "source": [
    "### Evaluation of Model"
   ]
  },
  {
   "cell_type": "code",
   "execution_count": 63,
   "id": "630fe57d",
   "metadata": {},
   "outputs": [
    {
     "name": "stdout",
     "output_type": "stream",
     "text": [
      "R2- SCORE: 0.9172241539046856\n"
     ]
    }
   ],
   "source": [
    "from sklearn import metrics\n",
    "R2_lin = metrics.r2_score(y_test,y_pred)\n",
    "print('R2- SCORE:', R2_lin)"
   ]
  },
  {
   "cell_type": "markdown",
   "id": "46e3f504",
   "metadata": {},
   "source": [
    "As per the R2 Score Linear Regression is a Good model"
   ]
  },
  {
   "cell_type": "markdown",
   "id": "da727508",
   "metadata": {},
   "source": [
    "### Other Regression Models and their Performance "
   ]
  },
  {
   "cell_type": "markdown",
   "id": "ea4464b5",
   "metadata": {},
   "source": [
    "#### K-Nearest Neighbor Algorithm "
   ]
  },
  {
   "cell_type": "code",
   "execution_count": 64,
   "id": "fccf7ff2",
   "metadata": {},
   "outputs": [],
   "source": [
    "from sklearn.neighbors import KNeighborsRegressor\n",
    "from sklearn.metrics import make_scorer\n",
    "from sklearn.model_selection import cross_val_score   \n",
    "    \n",
    "#Finding Best Values of K and using cross validation to training dataset\n",
    "k_scores =[] \n",
    "k_range = range(1, 101)\n",
    "for num_neighbors in k_range:\n",
    "    knn = KNeighborsRegressor(n_neighbors=num_neighbors)\n",
    "    scores = cross_val_score(knn, X_train_scaled, y_train, cv = 10, scoring = make_scorer(metrics.r2_score))\n",
    "    k_scores.append(scores.mean())"
   ]
  },
  {
   "cell_type": "code",
   "execution_count": 65,
   "id": "2cab5e93",
   "metadata": {},
   "outputs": [
    {
     "name": "stdout",
     "output_type": "stream",
     "text": [
      "Best K Value: 5\n"
     ]
    }
   ],
   "source": [
    "print(\"Best K Value:\",np.array(k_scores).argmax() + 1)"
   ]
  },
  {
   "cell_type": "code",
   "execution_count": 66,
   "id": "0fd78f5a",
   "metadata": {},
   "outputs": [
    {
     "data": {
      "text/plain": [
       "array([13494520., 12324888., 19603922., ..., 14320344., 17884704.,\n",
       "        8771595.])"
      ]
     },
     "execution_count": 66,
     "metadata": {},
     "output_type": "execute_result"
    }
   ],
   "source": [
    "#fitting the model for best value of k\n",
    "knn = KNeighborsRegressor(n_neighbors=5).fit(X_train_scaled,y_train)\n",
    "y_pred = knn.predict(X_test_scaled)\n",
    "y_pred"
   ]
  },
  {
   "cell_type": "markdown",
   "id": "664e84a9",
   "metadata": {},
   "source": [
    "#### Evaluation of Model"
   ]
  },
  {
   "cell_type": "code",
   "execution_count": 67,
   "id": "a2830685",
   "metadata": {},
   "outputs": [
    {
     "name": "stdout",
     "output_type": "stream",
     "text": [
      "R2- SCORE: 0.9555444002236116\n"
     ]
    }
   ],
   "source": [
    "from sklearn import metrics\n",
    "R2_knn = metrics.r2_score(y_test,y_pred)\n",
    "print('R2- SCORE:', R2_knn)"
   ]
  },
  {
   "cell_type": "markdown",
   "id": "d234cd14",
   "metadata": {},
   "source": [
    "As the R2 Score of KNN Regression is a Good model"
   ]
  },
  {
   "cell_type": "markdown",
   "id": "9c51769a",
   "metadata": {},
   "source": [
    "#### Decision Tree"
   ]
  },
  {
   "cell_type": "code",
   "execution_count": 91,
   "id": "d341c58a",
   "metadata": {},
   "outputs": [],
   "source": [
    "from sklearn.tree import DecisionTreeRegressor \n",
    "\n",
    "#Finding Best max depth of tree and using cross validation to training dataset\n",
    "max_scores =[] \n",
    "depth_range = range(1, 21)\n",
    "for i in depth_range:\n",
    "    dtree = DecisionTreeRegressor(max_depth = i, random_state = 5)\n",
    "    scores = cross_val_score(dtree, X_train_scaled, y_train, cv = 10, scoring = make_scorer(metrics.r2_score))\n",
    "    max_scores.append(scores.mean())\n",
    "CV_curve = pd.DataFrame(max_scores)"
   ]
  },
  {
   "cell_type": "code",
   "execution_count": 92,
   "id": "d2b18173",
   "metadata": {},
   "outputs": [
    {
     "name": "stdout",
     "output_type": "stream",
     "text": [
      "Max Depth: 15\n"
     ]
    }
   ],
   "source": [
    "print(\"Max Depth:\",np.array(max_scores).argmax() + 1)"
   ]
  },
  {
   "cell_type": "markdown",
   "id": "07c3e214",
   "metadata": {},
   "source": [
    "Ploting the Cross validation scores"
   ]
  },
  {
   "cell_type": "code",
   "execution_count": 93,
   "id": "9d9478bc",
   "metadata": {},
   "outputs": [
    {
     "data": {
      "image/png": "[encoded data removed]",
      "text/plain": [
       "<Figure size 720x360 with 1 Axes>"
      ]
     },
     "metadata": {
      "needs_background": "light"
     },
     "output_type": "display_data"
    }
   ],
   "source": [
    "#sns.lineplot(x = depth_range, y = max_scores);\n",
    "plt.figure(figsize=(10,5))\n",
    "plt.plot(CV_curve)\n",
    "plt.show()"
   ]
  },
  {
   "cell_type": "code",
   "execution_count": 94,
   "id": "ee9da37c",
   "metadata": {},
   "outputs": [
    {
     "data": {
      "text/plain": [
       "array([13796445.83333333, 12459280.        , 19376950.        , ...,\n",
       "       12946730.        , 17722310.        ,  8410150.        ])"
      ]
     },
     "execution_count": 94,
     "metadata": {},
     "output_type": "execute_result"
    }
   ],
   "source": [
    "#fitting the model for best max depth \n",
    "dtree = DecisionTreeRegressor(max_depth = 15).fit(X_train_scaled,y_train)\n",
    "y_pred = dtree.predict(X_test_scaled)\n",
    "y_pred"
   ]
  },
  {
   "cell_type": "markdown",
   "id": "28ab205e",
   "metadata": {},
   "source": [
    "#### Evaluation of Model"
   ]
  },
  {
   "cell_type": "code",
   "execution_count": 95,
   "id": "732fa96e",
   "metadata": {},
   "outputs": [
    {
     "name": "stdout",
     "output_type": "stream",
     "text": [
      "R2- SCORE of Decision Tree: 0.9754623039871421\n"
     ]
    }
   ],
   "source": [
    "from sklearn import metrics\n",
    "R2_dtree = metrics.r2_score(y_test,y_pred)\n",
    "print('R2- SCORE of Decision Tree:', R2_dtree)"
   ]
  },
  {
   "cell_type": "markdown",
   "id": "b54f2492",
   "metadata": {},
   "source": [
    "As per the R2 Score Decision Tree is a Good model"
   ]
  },
  {
   "cell_type": "markdown",
   "id": "15922a8e",
   "metadata": {},
   "source": [
    "#### Random Forest"
   ]
  },
  {
   "cell_type": "code",
   "execution_count": 111,
   "id": "510e864a",
   "metadata": {
    "scrolled": true
   },
   "outputs": [
    {
     "name": "stdout",
     "output_type": "stream",
     "text": [
      " est= 90 md= 6\n",
      " est= 90 md= 7\n",
      " est= 90 md= 8\n",
      " est= 90 md= 9\n",
      " est= 90 md= 10\n",
      " est= 90 md= 11\n",
      " est= 90 md= 12\n",
      " est= 90 md= 13\n",
      " est= 90 md= 14\n",
      " est= 90 md= 15\n",
      " est= 90 md= 16\n",
      " est= 90 md= 17\n",
      " est= 90 md= 18\n",
      " est= 90 md= 19\n",
      " est= 90 md= 20\n",
      " est= 95 md= 6\n",
      " est= 95 md= 7\n",
      " est= 95 md= 8\n",
      " est= 95 md= 9\n",
      " est= 95 md= 10\n",
      " est= 95 md= 11\n",
      " est= 95 md= 12\n",
      " est= 95 md= 13\n",
      " est= 95 md= 14\n",
      " est= 95 md= 15\n",
      " est= 95 md= 16\n",
      " est= 95 md= 17\n",
      " est= 95 md= 18\n",
      " est= 95 md= 19\n",
      " est= 95 md= 20\n",
      " est= 100 md= 6\n",
      " est= 100 md= 7\n",
      " est= 100 md= 8\n",
      " est= 100 md= 9\n",
      " est= 100 md= 10\n",
      " est= 100 md= 11\n",
      " est= 100 md= 12\n",
      " est= 100 md= 13\n",
      " est= 100 md= 14\n",
      " est= 100 md= 15\n",
      " est= 100 md= 16\n",
      " est= 100 md= 17\n",
      " est= 100 md= 18\n",
      " est= 100 md= 19\n",
      " est= 100 md= 20\n",
      " est= 105 md= 6\n",
      " est= 105 md= 7\n",
      " est= 105 md= 8\n",
      " est= 105 md= 9\n",
      " est= 105 md= 10\n",
      " est= 105 md= 11\n",
      " est= 105 md= 12\n",
      " est= 105 md= 13\n",
      " est= 105 md= 14\n",
      " est= 105 md= 15\n",
      " est= 105 md= 16\n",
      " est= 105 md= 17\n",
      " est= 105 md= 18\n",
      " est= 105 md= 19\n",
      " est= 105 md= 20\n",
      " est= 110 md= 6\n",
      " est= 110 md= 7\n",
      " est= 110 md= 8\n",
      " est= 110 md= 9\n",
      " est= 110 md= 10\n",
      " est= 110 md= 11\n",
      " est= 110 md= 12\n",
      " est= 110 md= 13\n",
      " est= 110 md= 14\n",
      " est= 110 md= 15\n",
      " est= 110 md= 16\n",
      " est= 110 md= 17\n",
      " est= 110 md= 18\n",
      " est= 110 md= 19\n",
      " est= 110 md= 20\n",
      " est= 115 md= 6\n",
      " est= 115 md= 7\n",
      " est= 115 md= 8\n",
      " est= 115 md= 9\n",
      " est= 115 md= 10\n",
      " est= 115 md= 11\n",
      " est= 115 md= 12\n",
      " est= 115 md= 13\n",
      " est= 115 md= 14\n",
      " est= 115 md= 15\n",
      " est= 115 md= 16\n",
      " est= 115 md= 17\n",
      " est= 115 md= 18\n",
      " est= 115 md= 19\n",
      " est= 115 md= 20\n",
      " est= 120 md= 6\n",
      " est= 120 md= 7\n",
      " est= 120 md= 8\n",
      " est= 120 md= 9\n",
      " est= 120 md= 10\n",
      " est= 120 md= 11\n",
      " est= 120 md= 12\n",
      " est= 120 md= 13\n",
      " est= 120 md= 14\n",
      " est= 120 md= 15\n",
      " est= 120 md= 16\n",
      " est= 120 md= 17\n",
      " est= 120 md= 18\n",
      " est= 120 md= 19\n",
      " est= 120 md= 20\n",
      " est= 125 md= 6\n",
      " est= 125 md= 7\n",
      " est= 125 md= 8\n",
      " est= 125 md= 9\n",
      " est= 125 md= 10\n",
      " est= 125 md= 11\n",
      " est= 125 md= 12\n",
      " est= 125 md= 13\n",
      " est= 125 md= 14\n",
      " est= 125 md= 15\n",
      " est= 125 md= 16\n",
      " est= 125 md= 17\n",
      " est= 125 md= 18\n",
      " est= 125 md= 19\n",
      " est= 125 md= 20\n",
      "Number of estimators: 120 and max depth 9  with max cross validation score\n"
     ]
    }
   ],
   "source": [
    "from sklearn.ensemble import RandomForestRegressor\n",
    "from sklearn.model_selection import GridSearchCV\n",
    "\n",
    "#Finding Best max depth& n_estimators and using cross validation to training dataset\n",
    "max_cross_val=-1\n",
    "max_depth_best=0\n",
    "n_estimators_best=0\n",
    "for est in range(90, 126, 5):\n",
    "    for md in range(6,21,1):\n",
    "        print(\"\\b\\b\\b\\b\\b\\b\\b\\b\\b\\b\\b\\b\\b\\b\\b\\b\\b\\b\\b\\b est=\",est,\"md=\",md)\n",
    "        rf = RandomForestRegressor(n_estimators= est,max_features='sqrt')\n",
    "        cross_val = cross_val_score(rf,X_train_scaled,y_train,cv=10).mean()\n",
    "        if cross_val > max_cross_val:\n",
    "            max_cross_val = cross_val\n",
    "            n_estimators_best=est\n",
    "            max_depth_best=md\n",
    "\n",
    "print(\"Number of estimators:\",n_estimators_best,\"and max depth\",max_depth_best,\" with max cross validation score\")"
   ]
  },
  {
   "cell_type": "markdown",
   "id": "38f705c2",
   "metadata": {},
   "source": [
    "#### Evaluation of Model"
   ]
  },
  {
   "cell_type": "code",
   "execution_count": 114,
   "id": "67ebe77c",
   "metadata": {},
   "outputs": [
    {
     "name": "stdout",
     "output_type": "stream",
     "text": [
      "R2- SCORE of Random Forest: 0.975471636965416\n"
     ]
    }
   ],
   "source": [
    "rf = RandomForestRegressor(n_estimators= n_estimators_best, max_depth=max_depth_best,max_features='sqrt')\n",
    "rf.fit(X_train_scaled, y_train)\n",
    "y_pred = rf.predict(X_test_scaled)\n",
    "\n",
    "\n",
    "R2_rf = metrics.r2_score(y_test,y_pred)\n",
    "print('R2- SCORE of Random Forest:', R2_rf)"
   ]
  },
  {
   "cell_type": "markdown",
   "id": "eccf6a2c",
   "metadata": {},
   "source": [
    "As the R2 Score of Random Fores is a Good model"
   ]
  },
  {
   "cell_type": "markdown",
   "id": "01c9bbed",
   "metadata": {},
   "source": [
    "#### XGBoost Regressor"
   ]
  },
  {
   "cell_type": "code",
   "execution_count": 121,
   "id": "42f02a2a",
   "metadata": {},
   "outputs": [],
   "source": [
    "import xgboost as xgb\n",
    "from xgboost import XGBRegressor\n",
    "\n",
    "scores = []\n",
    "for lr in range(1,101):\n",
    "    lr=lr/100\n",
    "    xgr = xgb.XGBRegressor(learning_rate = lr, n_estimators=100, verbosity = 1)\n",
    "    cross_val=cross_val_score(xgr,X_train_scaled,y_train,cv=10, scoring = make_scorer(metrics.r2_score)).mean()\n",
    "    scores.append(cross_val)\n",
    "curve = pd.DataFrame(scores)\n",
    "\n"
   ]
  },
  {
   "cell_type": "markdown",
   "id": "c2e84c97",
   "metadata": {},
   "source": [
    "Ploting the Cross validation scores"
   ]
  },
  {
   "cell_type": "code",
   "execution_count": 133,
   "id": "37b6b537",
   "metadata": {},
   "outputs": [
    {
     "data": {
      "image/png": "[encoded data removed]",
      "text/plain": [
       "<Figure size 720x360 with 1 Axes>"
      ]
     },
     "metadata": {
      "needs_background": "light"
     },
     "output_type": "display_data"
    },
    {
     "name": "stdout",
     "output_type": "stream",
     "text": [
      "Learning Rate after Cross Validation: 0.14\n"
     ]
    }
   ],
   "source": [
    "plt.figure(figsize=(10,5))\n",
    "plt.plot(curve)\n",
    "plt.show()\n",
    "\n",
    "learningRate = (pd.Series(cross_val_range).idxmax()+1)/100\n",
    "print(\"Learning Rate after Cross Validation:\",learningRate)\n"
   ]
  },
  {
   "cell_type": "markdown",
   "id": "dc2fbb32",
   "metadata": {},
   "source": [
    "#### Evaluation of Model"
   ]
  },
  {
   "cell_type": "code",
   "execution_count": 179,
   "id": "985c505c",
   "metadata": {},
   "outputs": [
    {
     "name": "stdout",
     "output_type": "stream",
     "text": [
      "R2- SCORE: 0.9940457616324267\n"
     ]
    }
   ],
   "source": [
    "xgr = xgb.XGBRegressor(learning_rate = learningRate, n_estimators=100, verbosity = 0)\n",
    "\n",
    "#Converting train set numpy arrays to dataframe whiuch might be useful in finding Feature importance\n",
    "orig_feature_names = list(X_train.columns)\n",
    "X_train_scaled_df = pd.DataFrame(X_train_scaled, columns=orig_feature_names)\n",
    "\n",
    "xgr.fit(X_train_scaled_df, y_train)\n",
    "y_pred = xgr.predict(X_test_scaled)\n",
    "\n",
    "R2_Xgb = metrics.r2_score(y_test,y_pred)\n",
    "print('R2- SCORE:', R2_Xgb)"
   ]
  },
  {
   "cell_type": "markdown",
   "id": "2f508014",
   "metadata": {},
   "source": [
    "Comparing R2 Scores of the different Models"
   ]
  },
  {
   "cell_type": "code",
   "execution_count": 180,
   "id": "fd3cae17",
   "metadata": {},
   "outputs": [
    {
     "data": {
      "text/html": [
       "<div>\n",
       "<style scoped>\n",
       "    .dataframe tbody tr th:only-of-type {\n",
       "        vertical-align: middle;\n",
       "    }\n",
       "\n",
       "    .dataframe tbody tr th {\n",
       "        vertical-align: top;\n",
       "    }\n",
       "\n",
       "    .dataframe thead th {\n",
       "        text-align: right;\n",
       "    }\n",
       "</style>\n",
       "<table border=\"1\" class=\"dataframe\">\n",
       "  <thead>\n",
       "    <tr style=\"text-align: right;\">\n",
       "      <th></th>\n",
       "      <th>Models</th>\n",
       "      <th>R2_Score</th>\n",
       "    </tr>\n",
       "  </thead>\n",
       "  <tbody>\n",
       "    <tr>\n",
       "      <th>0</th>\n",
       "      <td>Linear</td>\n",
       "      <td>0.917224</td>\n",
       "    </tr>\n",
       "    <tr>\n",
       "      <th>1</th>\n",
       "      <td>KNN</td>\n",
       "      <td>0.955544</td>\n",
       "    </tr>\n",
       "    <tr>\n",
       "      <th>2</th>\n",
       "      <td>Decision Tree</td>\n",
       "      <td>0.975462</td>\n",
       "    </tr>\n",
       "    <tr>\n",
       "      <th>3</th>\n",
       "      <td>Random Forest</td>\n",
       "      <td>0.975472</td>\n",
       "    </tr>\n",
       "    <tr>\n",
       "      <th>4</th>\n",
       "      <td>XGBoost</td>\n",
       "      <td>0.994046</td>\n",
       "    </tr>\n",
       "  </tbody>\n",
       "</table>\n",
       "</div>"
      ],
      "text/plain": [
       "          Models  R2_Score\n",
       "0         Linear  0.917224\n",
       "1            KNN  0.955544\n",
       "2  Decision Tree  0.975462\n",
       "3  Random Forest  0.975472\n",
       "4        XGBoost  0.994046"
      ]
     },
     "execution_count": 180,
     "metadata": {},
     "output_type": "execute_result"
    }
   ],
   "source": [
    "df_models =  pd.DataFrame({\"Models\": ['Linear', 'KNN', 'Decision Tree','Random Forest','XGBoost'], \n",
    "                         \"R2_Score\":[R2_lin, R2_knn, R2_dtree, R2_rf, R2_Xgb]})\n",
    "df_models"
   ]
  },
  {
   "cell_type": "markdown",
   "id": "2dfcc705",
   "metadata": {},
   "source": [
    "**Best Model** : XGBRegressor\n",
    "\n",
    "On evaluating the R2 Scores of various models we can confirm that XGBRegressor is the best fit model for the dataset."
   ]
  },
  {
   "cell_type": "markdown",
   "id": "a0381492",
   "metadata": {},
   "source": [
    "### Feature Importances"
   ]
  },
  {
   "cell_type": "code",
   "execution_count": 181,
   "id": "994b8a15",
   "metadata": {},
   "outputs": [
    {
     "data": {
      "text/plain": [
       "<AxesSubplot:>"
      ]
     },
     "execution_count": 181,
     "metadata": {},
     "output_type": "execute_result"
    },
    {
     "data": {
      "image/png": "[encoded data removed]",
      "text/plain": [
       "<Figure size 1440x720 with 1 Axes>"
      ]
     },
     "metadata": {
      "needs_background": "light"
     },
     "output_type": "display_data"
    }
   ],
   "source": [
    "feature_important = xgr.get_booster().get_score(importance_type='weight')\n",
    "keys = list(feature_important.keys())\n",
    "values = list(feature_important.values())\n",
    "\n",
    "data = pd.DataFrame(data=values, index=keys, columns=[\"score\"]).sort_values(by = \"score\", ascending=True)\n",
    "data.nlargest(40, columns=\"score\").plot(kind='bar', figsize = (20,10))"
   ]
  },
  {
   "cell_type": "markdown",
   "id": "0d3231d0",
   "metadata": {},
   "source": [
    "'SALES_PRICE' of the House is largely depends on 'INT_SQFT', 'HOUSE_AGE', 'MZZONE', 'AREA' and 'STREET'"
   ]
  },
  {
   "cell_type": "markdown",
   "id": "4164eb0b",
   "metadata": {},
   "source": [
    "### Insights we derive from the data for Realstate Agents and Buyers"
   ]
  },
  {
   "cell_type": "markdown",
   "id": "5fc822ec",
   "metadata": {},
   "source": [
    "**REAL ESTATE AGENT :**\n",
    "If any agent wants to build any type of building in Chennai, I would suggest them to build it in the 'residential medium density' zone at \"T Nagar\" Location , as the first choice because the price of building is higher than other Area and the zones."
   ]
  },
  {
   "cell_type": "markdown",
   "id": "e9b35111",
   "metadata": {},
   "source": [
    "**BUYERS :** If any buyer wants to buy the house/building at cheap price, I would suggest them to buy in Karapakam, because average price is the least there and also check other important factors like the age, Zone, street of the building to arrive the average price of the building."
   ]
  },
  {
   "cell_type": "code",
   "execution_count": null,
   "id": "a7a36934",
   "metadata": {},
   "outputs": [],
   "source": []
  }
 ],
 "metadata": {
  "kernelspec": {
   "display_name": "Python 3 (ipykernel)",
   "language": "python",
   "name": "python3"
  },
  "language_info": {
   "codemirror_mode": {
    "name": "ipython",
    "version": 3
   },
   "file_extension": ".py",
   "mimetype": "text/x-python",
   "name": "python",
   "nbconvert_exporter": "python",
   "pygments_lexer": "ipython3",
   "version": "3.9.12"
  }
 },
 "nbformat": 4,
 "nbformat_minor": 5
}
